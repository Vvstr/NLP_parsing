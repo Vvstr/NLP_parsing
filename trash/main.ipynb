{
 "cells": [
  {
   "cell_type": "code",
   "execution_count": null,
   "metadata": {},
   "outputs": [],
   "source": [
    "import pandas as pd\n",
    "from tqdm import tqdm\n",
    "import matplotlib.pyplot as plt\n",
    "import seaborn as sns\n",
    "from transformers import AutoModelForTokenClassification, AutoTokenizer\n",
    "import torch\n",
    "from huggingface_hub import login\n",
    "from bs4 import BeautifulSoup\n",
    "import spacy\n",
    "from spacy.lang.ru.stop_words import STOP_WORDS\n",
    "from transformers import pipeline\n",
    "import re\n",
    "\n",
    "%matplotlib inline\n",
    "tqdm.pandas()"
   ]
  },
  {
   "cell_type": "code",
   "execution_count": 1,
   "metadata": {},
   "outputs": [
    {
     "data": {
      "text/html": [
       "<div>\n",
       "<style scoped>\n",
       "    .dataframe tbody tr th:only-of-type {\n",
       "        vertical-align: middle;\n",
       "    }\n",
       "\n",
       "    .dataframe tbody tr th {\n",
       "        vertical-align: top;\n",
       "    }\n",
       "\n",
       "    .dataframe thead th {\n",
       "        text-align: right;\n",
       "    }\n",
       "</style>\n",
       "<table border=\"1\" class=\"dataframe\">\n",
       "  <thead>\n",
       "    <tr style=\"text-align: right;\">\n",
       "      <th></th>\n",
       "      <th>0</th>\n",
       "      <th>parsed_contacts</th>\n",
       "    </tr>\n",
       "  </thead>\n",
       "  <tbody>\n",
       "    <tr>\n",
       "      <th>0</th>\n",
       "      <td>http://0-9.ru</td>\n",
       "      <td>{'phones': [], 'emails': [], 'addresses': [], ...</td>\n",
       "    </tr>\n",
       "    <tr>\n",
       "      <th>1</th>\n",
       "      <td>http://0009.ru</td>\n",
       "      <td>{'phones': ['84994262506', '89686027429'], 'em...</td>\n",
       "    </tr>\n",
       "    <tr>\n",
       "      <th>2</th>\n",
       "      <td>http://001k.ru</td>\n",
       "      <td>NaN</td>\n",
       "    </tr>\n",
       "    <tr>\n",
       "      <th>3</th>\n",
       "      <td>http://003ms.ru</td>\n",
       "      <td>{'phones': ['+74999990301', '+79370093003'], '...</td>\n",
       "    </tr>\n",
       "    <tr>\n",
       "      <th>4</th>\n",
       "      <td>http://003rt.ru</td>\n",
       "      <td>{'phones': [], 'emails': [], 'addresses': [], ...</td>\n",
       "    </tr>\n",
       "    <tr>\n",
       "      <th>...</th>\n",
       "      <td>...</td>\n",
       "      <td>...</td>\n",
       "    </tr>\n",
       "    <tr>\n",
       "      <th>3042</th>\n",
       "      <td>http://1000uzlov.ru</td>\n",
       "      <td>NaN</td>\n",
       "    </tr>\n",
       "    <tr>\n",
       "      <th>3043</th>\n",
       "      <td>http://1000va.ru</td>\n",
       "      <td>NaN</td>\n",
       "    </tr>\n",
       "    <tr>\n",
       "      <th>3044</th>\n",
       "      <td>http://1000vann.com</td>\n",
       "      <td>NaN</td>\n",
       "    </tr>\n",
       "    <tr>\n",
       "      <th>3045</th>\n",
       "      <td>http://1000wt.ru</td>\n",
       "      <td>NaN</td>\n",
       "    </tr>\n",
       "    <tr>\n",
       "      <th>3046</th>\n",
       "      <td>http://1000zap.ru</td>\n",
       "      <td>NaN</td>\n",
       "    </tr>\n",
       "  </tbody>\n",
       "</table>\n",
       "<p>3047 rows × 2 columns</p>\n",
       "</div>"
      ],
      "text/plain": [
       "                        0                                    parsed_contacts\n",
       "0           http://0-9.ru  {'phones': [], 'emails': [], 'addresses': [], ...\n",
       "1          http://0009.ru  {'phones': ['84994262506', '89686027429'], 'em...\n",
       "2          http://001k.ru                                                NaN\n",
       "3         http://003ms.ru  {'phones': ['+74999990301', '+79370093003'], '...\n",
       "4         http://003rt.ru  {'phones': [], 'emails': [], 'addresses': [], ...\n",
       "...                   ...                                                ...\n",
       "3042  http://1000uzlov.ru                                                NaN\n",
       "3043     http://1000va.ru                                                NaN\n",
       "3044  http://1000vann.com                                                NaN\n",
       "3045     http://1000wt.ru                                                NaN\n",
       "3046    http://1000zap.ru                                                NaN\n",
       "\n",
       "[3047 rows x 2 columns]"
      ]
     },
     "execution_count": 1,
     "metadata": {},
     "output_type": "execute_result"
    }
   ],
   "source": [
    "import pandas as pd\n",
    "\n",
    "data = pd.read_csv(\"final_data.csv\")\n",
    "data"
   ]
  },
  {
   "cell_type": "code",
   "execution_count": 2,
   "metadata": {},
   "outputs": [
    {
     "name": "stdout",
     "output_type": "stream",
     "text": [
      "Количество непустых значений в parsed_contacts: 670\n"
     ]
    }
   ],
   "source": [
    "num_non_nan = data[\"parsed_contacts\"].count()\n",
    "print(f\"Количество непустых значений в parsed_contacts: {num_non_nan}\")"
   ]
  },
  {
   "cell_type": "code",
   "execution_count": 7,
   "metadata": {},
   "outputs": [
    {
     "data": {
      "text/plain": [
       "'Не люблю менять тему разговора, но вот сейчас тот самый случай.'"
      ]
     },
     "execution_count": 7,
     "metadata": {},
     "output_type": "execute_result"
    }
   ],
   "source": [
    "data['processed_contacts'][1000]"
   ]
  }
 ],
 "metadata": {
  "kernelspec": {
   "display_name": "Python 3",
   "language": "python",
   "name": "python3"
  },
  "language_info": {
   "codemirror_mode": {
    "name": "ipython",
    "version": 3
   },
   "file_extension": ".py",
   "mimetype": "text/x-python",
   "name": "python",
   "nbconvert_exporter": "python",
   "pygments_lexer": "ipython3",
   "version": "3.10.0"
  }
 },
 "nbformat": 4,
 "nbformat_minor": 2
}
