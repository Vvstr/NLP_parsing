{
 "cells": [
  {
   "cell_type": "code",
   "execution_count": 1,
   "metadata": {},
   "outputs": [],
   "source": [
    "import pandas as pd\n",
    "import matplotlib.pyplot as plt\n",
    "import seaborn as sns\n",
    "from transformers import AutoTokenizer\n",
    "from huggingface_hub import login\n",
    "%matplotlib inline"
   ]
  },
  {
   "cell_type": "code",
   "execution_count": 13,
   "metadata": {},
   "outputs": [
    {
     "data": {
      "text/html": [
       "<div>\n",
       "<style scoped>\n",
       "    .dataframe tbody tr th:only-of-type {\n",
       "        vertical-align: middle;\n",
       "    }\n",
       "\n",
       "    .dataframe tbody tr th {\n",
       "        vertical-align: top;\n",
       "    }\n",
       "\n",
       "    .dataframe thead th {\n",
       "        text-align: right;\n",
       "    }\n",
       "</style>\n",
       "<table border=\"1\" class=\"dataframe\">\n",
       "  <thead>\n",
       "    <tr style=\"text-align: right;\">\n",
       "      <th></th>\n",
       "      <th>0</th>\n",
       "      <th>1</th>\n",
       "    </tr>\n",
       "  </thead>\n",
       "  <tbody>\n",
       "    <tr>\n",
       "      <th>0</th>\n",
       "      <td>http://0-9.ru</td>\n",
       "      <td>&lt;html&gt;&lt;head&gt;\\n        &lt;meta name=\"viewport\" co...</td>\n",
       "    </tr>\n",
       "    <tr>\n",
       "      <th>1</th>\n",
       "      <td>http://0009.ru</td>\n",
       "      <td>&lt;html xmlns=\"http://www.w3.org/1999/xhtml\"&gt;&lt;he...</td>\n",
       "    </tr>\n",
       "    <tr>\n",
       "      <th>2</th>\n",
       "      <td>http://001k.ru</td>\n",
       "      <td>&lt;!DOCTYPE html&gt;&lt;html xmlns=\"http://www.w3.org/...</td>\n",
       "    </tr>\n",
       "    <tr>\n",
       "      <th>3</th>\n",
       "      <td>http://003ms.ru</td>\n",
       "      <td>&lt;!DOCTYPE html&gt;&lt;html router=\"application\" hexi...</td>\n",
       "    </tr>\n",
       "    <tr>\n",
       "      <th>4</th>\n",
       "      <td>http://003rt.ru</td>\n",
       "      <td>&lt;html lang=\"ru\"&gt;&lt;head&gt;\\n    &lt;meta name=\"viewpo...</td>\n",
       "    </tr>\n",
       "    <tr>\n",
       "      <th>...</th>\n",
       "      <td>...</td>\n",
       "      <td>...</td>\n",
       "    </tr>\n",
       "    <tr>\n",
       "      <th>9995</th>\n",
       "      <td>http://1hobby.ru</td>\n",
       "      <td>&lt;!DOCTYPE html&gt;&lt;html xmlns=\"http://www.w3.org/...</td>\n",
       "    </tr>\n",
       "    <tr>\n",
       "      <th>9996</th>\n",
       "      <td>http://1hod.ru</td>\n",
       "      <td>&lt;!DOCTYPE html&gt;&lt;html xmlns=\"http://www.w3.org/...</td>\n",
       "    </tr>\n",
       "    <tr>\n",
       "      <th>9997</th>\n",
       "      <td>http://1hop.ru</td>\n",
       "      <td>&lt;html class=\"no-touch not-edge\" lang=\"en-US\"&gt;&lt;...</td>\n",
       "    </tr>\n",
       "    <tr>\n",
       "      <th>9998</th>\n",
       "      <td>http://1hostels.ru</td>\n",
       "      <td>&lt;html lang=\"ru\"&gt;&lt;head&gt;\\n    &lt;title&gt;Общежития и...</td>\n",
       "    </tr>\n",
       "    <tr>\n",
       "      <th>9999</th>\n",
       "      <td>http://1hotel1.ru</td>\n",
       "      <td>&lt;!DOCTYPE html&gt;&lt;html xmlns=\"http://www.w3.org/...</td>\n",
       "    </tr>\n",
       "  </tbody>\n",
       "</table>\n",
       "<p>10000 rows × 2 columns</p>\n",
       "</div>"
      ],
      "text/plain": [
       "                       0                                                  1\n",
       "0          http://0-9.ru  <html><head>\\n        <meta name=\"viewport\" co...\n",
       "1         http://0009.ru  <html xmlns=\"http://www.w3.org/1999/xhtml\"><he...\n",
       "2         http://001k.ru  <!DOCTYPE html><html xmlns=\"http://www.w3.org/...\n",
       "3        http://003ms.ru  <!DOCTYPE html><html router=\"application\" hexi...\n",
       "4        http://003rt.ru  <html lang=\"ru\"><head>\\n    <meta name=\"viewpo...\n",
       "...                  ...                                                ...\n",
       "9995    http://1hobby.ru  <!DOCTYPE html><html xmlns=\"http://www.w3.org/...\n",
       "9996      http://1hod.ru  <!DOCTYPE html><html xmlns=\"http://www.w3.org/...\n",
       "9997      http://1hop.ru  <html class=\"no-touch not-edge\" lang=\"en-US\"><...\n",
       "9998  http://1hostels.ru  <html lang=\"ru\"><head>\\n    <title>Общежития и...\n",
       "9999   http://1hotel1.ru  <!DOCTYPE html><html xmlns=\"http://www.w3.org/...\n",
       "\n",
       "[10000 rows x 2 columns]"
      ]
     },
     "execution_count": 13,
     "metadata": {},
     "output_type": "execute_result"
    }
   ],
   "source": [
    "df = pd.read_csv(\"analyzer_analyzer_urls.csv\")\n",
    "df_with_header = pd.concat([\n",
    "    pd.DataFrame([df.columns], columns=df.columns),\n",
    "    df\n",
    "]).reset_index(drop=True)\n",
    "\n",
    "# Переименовываем столбцы в простые индексы\n",
    "df_with_header.columns = range(len(df.columns))\n",
    "del df\n",
    "df_with_header"
   ]
  },
  {
   "cell_type": "code",
   "execution_count": 23,
   "metadata": {},
   "outputs": [
    {
     "name": "stdout",
     "output_type": "stream",
     "text": [
      "Avg символов 184867.6633\n"
     ]
    }
   ],
   "source": [
    "print(f\"Avg символов {df_with_header.iloc[:, 1].str.len().mean()}\")"
   ]
  },
  {
   "cell_type": "markdown",
   "metadata": {},
   "source": [
    "# CleanHTML.v1"
   ]
  },
  {
   "cell_type": "code",
   "execution_count": null,
   "metadata": {},
   "outputs": [],
   "source": [
    "def clean_html(raw_html):\n",
    "    \"\"\"Удаление всей разметки и мусора\"\"\"\n",
    "    import re\n",
    "    from bs4 import BeautifulSoup\n",
    "    \n",
    "\n",
    "    soup = BeautifulSoup(raw_html, 'html.parser')\n",
    "\n",
    "    # Удаление ненужных блоков\n",
    "    for tag in ['script', 'style', 'meta', 'head', 'footer']:\n",
    "        for el in soup.find_all(tag):\n",
    "            el.decompose()\n",
    "\n",
    "    # Извлечение ключевых секций\n",
    "    main_content = soup.find(['main', 'article']) or soup.body\n",
    "    text = main_content.get_text(separator=' ', strip=True) if main_content else ''\n",
    "\n",
    "    # Удаление повторяющихся пробелов\n",
    "    text = re.sub(r'\\s+', ' ', text)\n",
    "\n",
    "    #return text[:5000]  # Ограничение контекста для LLM\n",
    "    return text          # Пока оставим так, т.к. подход не только LLMный"
   ]
  },
  {
   "cell_type": "code",
   "execution_count": 14,
   "metadata": {},
   "outputs": [],
   "source": [
    "def clean_html(raw_html):\n",
    "    \"\"\"Удаление всей разметки и мусора\"\"\"\n",
    "    import re\n",
    "    from bs4 import BeautifulSoup\n",
    "    \n",
    "\n",
    "    soup = BeautifulSoup(raw_html, 'html.parser')\n",
    "\n",
    "    # Удаление ненужных блоков\n",
    "    for script in soup(['script', 'style', 'meta', 'head', 'footer']):\n",
    "        script.decompose()\n",
    "\n",
    "    # Извлечение ключевых секций\n",
    "    #main_content = soup.find(['main', 'article']) or soup.body\n",
    "    text = soup.get_text(separator='\\n', strip=True)\n",
    "\n",
    "    # Удаление повторяющихся пробелов\n",
    "    text = re.sub(r'\\s+', ' ', text)\n",
    "\n",
    "    #return text[:5000]  # Ограничение контекста для LLM\n",
    "    return text          # Пока оставим так, т.к. подход не только LLMный"
   ]
  },
  {
   "cell_type": "code",
   "execution_count": 15,
   "metadata": {},
   "outputs": [
    {
     "name": "stderr",
     "output_type": "stream",
     "text": [
      "2025-03-31 17:52:13,100 - INFO - Обрабатываем столбец: 1\n"
     ]
    },
    {
     "name": "stdout",
     "output_type": "stream",
     "text": [
      "INFO: Pandarallel will run on 8 workers.\n",
      "INFO: Pandarallel will use standard multiprocessing data transfer (pipe) to transfer data between the main process and workers.\n",
      "\n",
      "WARNING: You are on Windows. If you detect any issue with pandarallel, be sure you checked out the Troubleshooting page:\n",
      "https://nalepae.github.io/pandarallel/troubleshooting/\n"
     ]
    },
    {
     "data": {
      "application/vnd.jupyter.widget-view+json": {
       "model_id": "8b7261a74b294a848ffc01517314d0f8",
       "version_major": 2,
       "version_minor": 0
      },
      "text/plain": [
       "VBox(children=(HBox(children=(IntProgress(value=0, description='0.00%', max=1250), Label(value='0 / 1250'))), …"
      ]
     },
     "metadata": {},
     "output_type": "display_data"
    },
    {
     "name": "stderr",
     "output_type": "stream",
     "text": [
      "2025-03-31 17:53:46,996 - INFO - Обработка завершена!\n"
     ]
    }
   ],
   "source": [
    "import logging\n",
    "from pandarallel import pandarallel\n",
    "from tqdm.auto import tqdm\n",
    "\n",
    "\n",
    "# Настраиваем логирование\n",
    "logging.basicConfig(\n",
    "    format=\"%(asctime)s - %(levelname)s - %(message)s\",\n",
    "    level=logging.INFO\n",
    ")\n",
    "logger = logging.getLogger(__name__)\n",
    "\n",
    "# Инициализируем pandarallel с прогресс-баром\n",
    "pandarallel.initialize(progress_bar=True)\n",
    "\n",
    "\n",
    "second_column_name = df_with_header.columns[1]\n",
    "logger.info(f\"Обрабатываем столбец: {second_column_name}\")\n",
    "\n",
    "# Применяем функцию с прогресс-баром\n",
    "tqdm.pandas(desc=\"Чистим HTML\")\n",
    "df_with_header[second_column_name] = df_with_header[second_column_name].parallel_apply(clean_html)\n",
    "\n",
    "logger.info(\"Обработка завершена!\")\n",
    "#df_new = \"analyzer_urls_without_marking.csv\"\n",
    "#df_with_header.to_csv(f\"{df_new}\")\n",
    "\n",
    "#logger.info(f\"Исходный датасет с обработкой сохранён под названием {df_new}\")"
   ]
  },
  {
   "cell_type": "code",
   "execution_count": 26,
   "metadata": {},
   "outputs": [
    {
     "name": "stdout",
     "output_type": "stream",
     "text": [
      "Avg символов 6294.298\n"
     ]
    }
   ],
   "source": [
    "print(f\"Avg символов {df_with_header.iloc[:, 1].str.len().mean()}\")"
   ]
  },
  {
   "cell_type": "code",
   "execution_count": 16,
   "metadata": {},
   "outputs": [
    {
     "name": "stdout",
     "output_type": "stream",
     "text": [
      "Avg символов 7161.6295\n"
     ]
    }
   ],
   "source": [
    "print(f\"Avg символов {df_with_header.iloc[:, 1].str.len().mean()}\")"
   ]
  },
  {
   "cell_type": "code",
   "execution_count": null,
   "metadata": {},
   "outputs": [
    {
     "data": {
      "application/vnd.jupyter.widget-view+json": {
       "model_id": "d4c37d3aad7c4636af2406ec6066d7d5",
       "version_major": 2,
       "version_minor": 0
      },
      "text/plain": [
       "Токенизация текстов:   0%|          | 0/10000 [00:00<?, ?it/s]"
      ]
     },
     "metadata": {},
     "output_type": "display_data"
    },
    {
     "name": "stderr",
     "output_type": "stream",
     "text": [
      "Token indices sequence length is longer than the specified maximum sequence length for this model (14238 > 8192). Running this sequence through the model will result in indexing errors\n"
     ]
    },
    {
     "name": "stdout",
     "output_type": "stream",
     "text": [
      "\n",
      "Среднее количество токенов на текст: 2200.66\n",
      "\n",
      "Статистика по количеству токенов:\n",
      "count     10000.000000\n",
      "mean       2200.661200\n",
      "std        8149.258486\n",
      "min           1.000000\n",
      "25%         477.750000\n",
      "50%        1185.000000\n",
      "75%        2555.250000\n",
      "max      525868.000000\n",
      "Name: token_count, dtype: float64\n",
      "\n",
      "Примеры первых 3 строк:\n",
      "Строка 0: Домен продается Рус Eng Купить в RU-CENTER Другие ... -> 24 токенов\n",
      "Строка 1: Об Ассоциации Руководящие органы Из истории Ассоци... -> 203 токенов\n",
      "Строка 2: Кирпичный завод №1. + 7 8442 53-07-07 Наше произво... -> 382 токенов\n"
     ]
    }
   ],
   "source": [
    "# Инициализация токенизатора\n",
    "token = \"\" \n",
    "login(token=token)\n",
    "tokenizer = AutoTokenizer.from_pretrained(\"IlyaGusev/saiga_llama3_8b\")\n",
    "\n",
    "# Функция для подсчёта токенов (оптимизированная версия)\n",
    "def count_tokens(text: str) -> int:\n",
    "    return len(tokenizer.encode(text, add_special_tokens=True))\n",
    "\n",
    "# Применяем ко всему датафрейму с прогресс-баром\n",
    "tqdm.pandas(desc=\"Токенизация текстов\")\n",
    "df_with_header['token_count'] = df_with_header.iloc[:, 1].progress_apply(count_tokens)  # Второй столбец с текстами\n",
    "\n",
    "# Рассчитываем среднее количество токенов\n",
    "mean_tokens = df_with_header['token_count'].mean()\n",
    "print(f\"\\nСреднее количество токенов на текст: {mean_tokens:.2f}\")\n",
    "\n",
    "# Дополнительно: статистика по количеству токенов\n",
    "print(\"\\nСтатистика по количеству токенов:\")\n",
    "print(df_with_header['token_count'].describe())\n",
    "\n",
    "# Пример первых нескольких строк с токенами\n",
    "print(\"\\nПримеры первых 3 строк:\")\n",
    "for i, row in df_with_header.head(3).iterrows():\n",
    "    text_sample = row[1][:50] + \"...\" if len(row[1]) > 50 else row[1]\n",
    "    print(f\"Строка {i}: {text_sample} -> {row['token_count']} токенов\")"
   ]
  },
  {
   "cell_type": "code",
   "execution_count": null,
   "metadata": {},
   "outputs": [
    {
     "data": {
      "application/vnd.jupyter.widget-view+json": {
       "model_id": "eb46e19d28734de2a4610f5acdbe0f7f",
       "version_major": 2,
       "version_minor": 0
      },
      "text/plain": [
       "Токенизация текстов:   0%|          | 0/10000 [00:00<?, ?it/s]"
      ]
     },
     "metadata": {},
     "output_type": "display_data"
    },
    {
     "name": "stderr",
     "output_type": "stream",
     "text": [
      "Token indices sequence length is longer than the specified maximum sequence length for this model (14238 > 8192). Running this sequence through the model will result in indexing errors\n"
     ]
    },
    {
     "name": "stdout",
     "output_type": "stream",
     "text": [
      "\n",
      "Среднее количество токенов на текст: 2502.25\n",
      "\n",
      "Статистика по количеству токенов:\n",
      "count     10000.000000\n",
      "mean       2502.251400\n",
      "std        8186.524737\n",
      "min           1.000000\n",
      "25%         742.000000\n",
      "50%        1488.000000\n",
      "75%        2909.250000\n",
      "max      525868.000000\n",
      "Name: token_count, dtype: float64\n",
      "\n",
      "Примеры первых 3 строк:\n",
      "Строка 0: Домен продается Рус Eng Купить в RU-CENTER Другие ... -> 24 токенов\n",
      "Строка 1: Об Ассоциации Руководящие органы Из истории Ассоци... -> 203 токенов\n",
      "Строка 2: Перейти к содержанию Кирпичный завод №1 Меню Облиц... -> 430 токенов\n"
     ]
    }
   ],
   "source": [
    "# Инициализация токенизатора\n",
    "token = \"\" \n",
    "login(token=token)\n",
    "tokenizer = AutoTokenizer.from_pretrained(\"IlyaGusev/saiga_llama3_8b\")\n",
    "\n",
    "# Функция для подсчёта токенов (оптимизированная версия)\n",
    "def count_tokens(text: str) -> int:\n",
    "    return len(tokenizer.encode(text, add_special_tokens=True))\n",
    "\n",
    "# Применяем ко всему датафрейму с прогресс-баром\n",
    "tqdm.pandas(desc=\"Токенизация текстов\")\n",
    "df_with_header['token_count'] = df_with_header.iloc[:, 1].progress_apply(count_tokens)  # Второй столбец с текстами\n",
    "\n",
    "# Рассчитываем среднее количество токенов\n",
    "mean_tokens = df_with_header['token_count'].mean()\n",
    "print(f\"\\nСреднее количество токенов на текст: {mean_tokens:.2f}\")\n",
    "\n",
    "# Дополнительно: статистика по количеству токенов\n",
    "print(\"\\nСтатистика по количеству токенов:\")\n",
    "print(df_with_header['token_count'].describe())\n",
    "\n",
    "# Пример первых нескольких строк с токенами\n",
    "print(\"\\nПримеры первых 3 строк:\")\n",
    "for i, row in df_with_header.head(3).iterrows():\n",
    "    text_sample = row[1][:50] + \"...\" if len(row[1]) > 50 else row[1]\n",
    "    print(f\"Строка {i}: {text_sample} -> {row['token_count']} токенов\")"
   ]
  },
  {
   "cell_type": "code",
   "execution_count": 18,
   "metadata": {},
   "outputs": [
    {
     "data": {
      "text/plain": [
       "'Перейти к содержанию Кирпичный завод №1 Меню Облицовочный кирпич Контакты и схема проезда Прайс на облицовочный кирпич Облицовочный кирпич Кирпичный завод №1. + 7 8442 53-07-07 Наше производство Примеры работ Мы производим гиперпрессованный облицовочный кирпич по испанской технологии на современном оборудовании. Наше предприятие – это современное высокотехнологичное производство облицовочного кирпича методом гиперпрессования по инновационной испанской технологии. Новейшее оборудование завода позволяет выпускать продукцию, по всем характеристикам превышающую существующие Российские аналоги и соответствующую всем Российским и Европейским стандартам. Ассортимент выпускаемой продукции включает как широчайшую цветовую гамму, так и сортамент полнотелых, пустотелых, фасонных и «колотых» кирпичей. Завод производит одинарный и полуторный кирпич. Гиперпрессованный кирпич может применяться для кладки несущих конструкций зданий с сухим, нормальным и влажным режимом эксплуатации, в том числе наружных и внутренних стен зданий: для стен, подвалов и цоколей. Колотый серый кирпич Колотый кирпич слоновая кость Колотый кирпич каппучино Колотый кирпич слоновая кость гладкий кирпич каппучиино Серый колотый кирпич Слоновая кость Колотый серый кирпич Забор из облицовочного кирпича Рваный кирпич Забор желтый кирпич Беспигментный облицовочный кирпич Схема проезда'"
      ]
     },
     "execution_count": 18,
     "metadata": {},
     "output_type": "execute_result"
    }
   ],
   "source": [
    "df_with_header.iloc[2][1]"
   ]
  },
  {
   "cell_type": "code",
   "execution_count": 19,
   "metadata": {},
   "outputs": [],
   "source": [
    "df = pd.read_csv(\"analyzer_analyzer_urls.csv\")\n",
    "df = pd.concat([\n",
    "    pd.DataFrame([df.columns], columns=df.columns),\n",
    "    df\n",
    "]).reset_index(drop=True)\n",
    "\n",
    "# Переименовываем столбцы в простые индексы\n",
    "df.columns = range(len(df.columns))"
   ]
  },
  {
   "cell_type": "code",
   "execution_count": 20,
   "metadata": {},
   "outputs": [
    {
     "data": {
      "text/plain": [
       "'<!DOCTYPE html><html xmlns=\"http://www.w3.org/1999/xhtml\" dir=\"ltr\" lang=\"ru-RU\" prefix=\"og: https://ogp.me/ns#\"><head>\\n<meta charset=\"UTF-8\" />\\n<meta name=\"viewport\" content=\"width=device-width, initial-scale=1\" />\\n<link rel=\"profile\" href=\"http://gmpg.org/xfn/11\" />\\n<link rel=\"pingback\" href=\"http://001k.ru/xmlrpc.php\" />\\n\\n<title>Кирпичный завод №1 Облицовочный кирпич - Кирпичный завод №1</title>\\n\\n\\t\\t<!-- All in One SEO 4.4.1 - aioseo.com -->\\n\\t\\t<meta name=\"description\" content=\"Кирпичный завод №1 Кирпичный завод №1. + 7 8442 53-07-07Мы производим облицовочный гиперпрессованный кирпич по испанской технологии на современном оборудовании. Наше предприятие – это современное высокотехнологичное производство облицовочного кирпича методом гиперпрессования по инновационной испанской технологии. Новейшее оборудование завода позволяет выпускать продукцию, по всем характеристикам превышающую существующие Российские аналоги и соответствующую всем Российским и Европейским\" />\\n\\t\\t<meta name=\"robots\" content=\"max-image-preview:large\" />\\n\\t\\t<link rel=\"canonical\" href=\"http://001k.ru/\" />\\n\\t\\t<meta name=\"generator\" content=\"All in One SEO (AIOSEO) 4.4.1\" />\\n\\t\\t<meta property=\"og:locale\" content=\"ru_RU\" />\\n\\t\\t<meta property=\"og:site_name\" content=\"Кирпичный завод №1 - облицовочный кирпич по испанской технологии\" />\\n\\t\\t<meta property=\"og:type\" content=\"website\" />\\n\\t\\t<meta property=\"og:title\" content=\"Кирпичный завод №1 Облицовочный кирпич - Кирпичный завод №1\" />\\n\\t\\t<meta property=\"og:description\" content=\"Кирпичный завод №1 Кирпичный завод №1. + 7 8442 53-07-07Мы производим облицовочный гиперпрессованный кирпич по испанской технологии на современном оборудовании. Наше предприятие – это современное высокотехнологичное производство облицовочного кирпича методом гиперпрессования по инновационной испанской технологии. Новейшее оборудование завода позволяет выпускать продукцию, по всем характеристикам превышающую существующие Российские аналоги и соответствующую всем Российским и Европейским\" />\\n\\t\\t<meta property=\"og:url\" content=\"http://001k.ru/\" />\\n\\t\\t<meta name=\"twitter:card\" content=\"summary_large_image\" />\\n\\t\\t<meta name=\"twitter:title\" content=\"Кирпичный завод №1 Облицовочный кирпич - Кирпичный завод №1\" />\\n\\t\\t<meta name=\"twitter:description\" content=\"Кирпичный завод №1 Кирпичный завод №1. + 7 8442 53-07-07Мы производим облицовочный гиперпрессованный кирпич по испанской технологии на современном оборудовании. Наше предприятие – это современное высокотехнологичное производство облицовочного кирпича методом гиперпрессования по инновационной испанской технологии. Новейшее оборудование завода позволяет выпускать продукцию, по всем характеристикам превышающую существующие Российские аналоги и соответствующую всем Российским и Европейским\" />\\n\\t\\t<div class=\"fit-vids-style\">\\xad<style>               .fluid-width-video-wrapper {                 width: 100%;                              position: relative;                       padding: 0;                            }                                                                                   .fluid-width-video-wrapper iframe,        .fluid-width-video-wrapper object,        .fluid-width-video-wrapper embed {           position: absolute;                       top: 0;                                   left: 0;                                  width: 100%;                              height: 100%;                          }                                       </style></div><script type=\"application/ld+json\" class=\"aioseo-schema\">\\n\\t\\t\\t{\"@context\":\"https:\\\\/\\\\/schema.org\",\"@graph\":[{\"@type\":\"BreadcrumbList\",\"@id\":\"http:\\\\/\\\\/001k.ru\\\\/#breadcrumblist\",\"itemListElement\":[{\"@type\":\"ListItem\",\"@id\":\"http:\\\\/\\\\/001k.ru\\\\/#listItem\",\"position\":1,\"item\":{\"@type\":\"WebPage\",\"@id\":\"http:\\\\/\\\\/001k.ru\\\\/\",\"name\":\"\\\\u0413\\\\u043b\\\\u0430\\\\u0432\\\\u043d\\\\u0430\\\\u044f\",\"description\":\"\\\\u041a\\\\u0438\\\\u0440\\\\u043f\\\\u0438\\\\u0447\\\\u043d\\\\u044b\\\\u0439 \\\\u0437\\\\u0430\\\\u0432\\\\u043e\\\\u0434 \\\\u21161 \\\\u041a\\\\u0438\\\\u0440\\\\u043f\\\\u0438\\\\u0447\\\\u043d\\\\u044b\\\\u0439 \\\\u0437\\\\u0430\\\\u0432\\\\u043e\\\\u0434 \\\\u21161. + 7 8442 53-07-07\\\\u041c\\\\u044b \\\\u043f\\\\u0440\\\\u043e\\\\u0438\\\\u0437\\\\u0432\\\\u043e\\\\u0434\\\\u0438\\\\u043c \\\\u043e\\\\u0431\\\\u043b\\\\u0438\\\\u0446\\\\u043e\\\\u0432\\\\u043e\\\\u0447\\\\u043d\\\\u044b\\\\u0439 \\\\u0433\\\\u0438\\\\u043f\\\\u0435\\\\u0440\\\\u043f\\\\u0440\\\\u0435\\\\u0441\\\\u0441\\\\u043e\\\\u0432\\\\u0430\\\\u043d\\\\u043d\\\\u044b\\\\u0439 \\\\u043a\\\\u0438\\\\u0440\\\\u043f\\\\u0438\\\\u0447 \\\\u043f\\\\u043e \\\\u0438\\\\u0441\\\\u043f\\\\u0430\\\\u043d\\\\u0441\\\\u043a\\\\u043e\\\\u0439 \\\\u0442\\\\u0435\\\\u0445\\\\u043d\\\\u043e\\\\u043b\\\\u043e\\\\u0433\\\\u0438\\\\u0438 \\\\u043d\\\\u0430 \\\\u0441\\\\u043e\\\\u0432\\\\u0440\\\\u0435\\\\u043c\\\\u0435\\\\u043d\\\\u043d\\\\u043e\\\\u043c \\\\u043e\\\\u0431\\\\u043e\\\\u0440\\\\u0443\\\\u0434\\\\u043e\\\\u0432\\\\u0430\\\\u043d\\\\u0438\\\\u0438. \\\\u041d\\\\u0430\\\\u0448\\\\u0435 \\\\u043f\\\\u0440\\\\u0435\\\\u0434\\\\u043f\\\\u0440\\\\u0438\\\\u044f\\\\u0442\\\\u0438\\\\u0435 \\\\u2013 \\\\u044d\\\\u0442\\\\u043e \\\\u0441\\\\u043e\\\\u0432\\\\u0440\\\\u0435\\\\u043c\\\\u0435\\\\u043d\\\\u043d\\\\u043e\\\\u0435 \\\\u0432\\\\u044b\\\\u0441\\\\u043e\\\\u043a\\\\u043e\\\\u0442\\\\u0435\\\\u0445\\\\u043d\\\\u043e\\\\u043b\\\\u043e\\\\u0433\\\\u0438\\\\u0447\\\\u043d\\\\u043e\\\\u0435 \\\\u043f\\\\u0440\\\\u043e\\\\u0438\\\\u0437\\\\u0432\\\\u043e\\\\u0434\\\\u0441\\\\u0442\\\\u0432\\\\u043e \\\\u043e\\\\u0431\\\\u043b\\\\u0438\\\\u0446\\\\u043e\\\\u0432\\\\u043e\\\\u0447\\\\u043d\\\\u043e\\\\u0433\\\\u043e \\\\u043a\\\\u0438\\\\u0440\\\\u043f\\\\u0438\\\\u0447\\\\u0430 \\\\u043c\\\\u0435\\\\u0442\\\\u043e\\\\u0434\\\\u043e\\\\u043c \\\\u0433\\\\u0438\\\\u043f\\\\u0435\\\\u0440\\\\u043f\\\\u0440\\\\u0435\\\\u0441\\\\u0441\\\\u043e\\\\u0432\\\\u0430\\\\u043d\\\\u0438\\\\u044f \\\\u043f\\\\u043e \\\\u0438\\\\u043d\\\\u043d\\\\u043e\\\\u0432\\\\u0430\\\\u0446\\\\u0438\\\\u043e\\\\u043d\\\\u043d\\\\u043e\\\\u0439 \\\\u0438\\\\u0441\\\\u043f\\\\u0430\\\\u043d\\\\u0441\\\\u043a\\\\u043e\\\\u0439 \\\\u0442\\\\u0435\\\\u0445\\\\u043d\\\\u043e\\\\u043b\\\\u043e\\\\u0433\\\\u0438\\\\u0438. \\\\u041d\\\\u043e\\\\u0432\\\\u0435\\\\u0439\\\\u0448\\\\u0435\\\\u0435 \\\\u043e\\\\u0431\\\\u043e\\\\u0440\\\\u0443\\\\u0434\\\\u043e\\\\u0432\\\\u0430\\\\u043d\\\\u0438\\\\u0435 \\\\u0437\\\\u0430\\\\u0432\\\\u043e\\\\u0434\\\\u0430 \\\\u043f\\\\u043e\\\\u0437\\\\u0432\\\\u043e\\\\u043b\\\\u044f\\\\u0435\\\\u0442 \\\\u0432\\\\u044b\\\\u043f\\\\u0443\\\\u0441\\\\u043a\\\\u0430\\\\u0442\\\\u044c \\\\u043f\\\\u0440\\\\u043e\\\\u0434\\\\u0443\\\\u043a\\\\u0446\\\\u0438\\\\u044e, \\\\u043f\\\\u043e \\\\u0432\\\\u0441\\\\u0435\\\\u043c \\\\u0445\\\\u0430\\\\u0440\\\\u0430\\\\u043a\\\\u0442\\\\u0435\\\\u0440\\\\u0438\\\\u0441\\\\u0442\\\\u0438\\\\u043a\\\\u0430\\\\u043c \\\\u043f\\\\u0440\\\\u0435\\\\u0432\\\\u044b\\\\u0448\\\\u0430\\\\u044e\\\\u0449\\\\u0443\\\\u044e \\\\u0441\\\\u0443\\\\u0449\\\\u0435\\\\u0441\\\\u0442\\\\u0432\\\\u0443\\\\u044e\\\\u0449\\\\u0438\\\\u0435 \\\\u0420\\\\u043e\\\\u0441\\\\u0441\\\\u0438\\\\u0439\\\\u0441\\\\u043a\\\\u0438\\\\u0435 \\\\u0430\\\\u043d\\\\u0430\\\\u043b\\\\u043e\\\\u0433\\\\u0438 \\\\u0438 \\\\u0441\\\\u043e\\\\u043e\\\\u0442\\\\u0432\\\\u0435\\\\u0442\\\\u0441\\\\u0442\\\\u0432\\\\u0443\\\\u044e\\\\u0449\\\\u0443\\\\u044e \\\\u0432\\\\u0441\\\\u0435\\\\u043c \\\\u0420\\\\u043e\\\\u0441\\\\u0441\\\\u0438\\\\u0439\\\\u0441\\\\u043a\\\\u0438\\\\u043c \\\\u0438 \\\\u0415\\\\u0432\\\\u0440\\\\u043e\\\\u043f\\\\u0435\\\\u0439\\\\u0441\\\\u043a\\\\u0438\\\\u043c\",\"url\":\"http:\\\\/\\\\/001k.ru\\\\/\"}}]},{\"@type\":\"Organization\",\"@id\":\"http:\\\\/\\\\/001k.ru\\\\/#organization\",\"name\":\"\\\\u041a\\\\u0438\\\\u0440\\\\u043f\\\\u0438\\\\u0447\\\\u043d\\\\u044b\\\\u0439 \\\\u0437\\\\u0430\\\\u0432\\\\u043e\\\\u0434 \\\\u21161\",\"url\":\"http:\\\\/\\\\/001k.ru\\\\/\",\"contactPoint\":{\"@type\":\"ContactPoint\",\"telephone\":\"+78442530707\",\"contactType\":\"Sales\"}},{\"@type\":\"WebPage\",\"@id\":\"http:\\\\/\\\\/001k.ru\\\\/#webpage\",\"url\":\"http:\\\\/\\\\/001k.ru\\\\/\",\"name\":\"\\\\u041a\\\\u0438\\\\u0440\\\\u043f\\\\u0438\\\\u0447\\\\u043d\\\\u044b\\\\u0439 \\\\u0437\\\\u0430\\\\u0432\\\\u043e\\\\u0434 \\\\u21161 \\\\u041e\\\\u0431\\\\u043b\\\\u0438\\\\u0446\\\\u043e\\\\u0432\\\\u043e\\\\u0447\\\\u043d\\\\u044b\\\\u0439 \\\\u043a\\\\u0438\\\\u0440\\\\u043f\\\\u0438\\\\u0447 - \\\\u041a\\\\u0438\\\\u0440\\\\u043f\\\\u0438\\\\u0447\\\\u043d\\\\u044b\\\\u0439 \\\\u0437\\\\u0430\\\\u0432\\\\u043e\\\\u0434 \\\\u21161\",\"description\":\"\\\\u041a\\\\u0438\\\\u0440\\\\u043f\\\\u0438\\\\u0447\\\\u043d\\\\u044b\\\\u0439 \\\\u0437\\\\u0430\\\\u0432\\\\u043e\\\\u0434 \\\\u21161 \\\\u041a\\\\u0438\\\\u0440\\\\u043f\\\\u0438\\\\u0447\\\\u043d\\\\u044b\\\\u0439 \\\\u0437\\\\u0430\\\\u0432\\\\u043e\\\\u0434 \\\\u21161. + 7 8442 53-07-07\\\\u041c\\\\u044b \\\\u043f\\\\u0440\\\\u043e\\\\u0438\\\\u0437\\\\u0432\\\\u043e\\\\u0434\\\\u0438\\\\u043c \\\\u043e\\\\u0431\\\\u043b\\\\u0438\\\\u0446\\\\u043e\\\\u0432\\\\u043e\\\\u0447\\\\u043d\\\\u044b\\\\u0439 \\\\u0433\\\\u0438\\\\u043f\\\\u0435\\\\u0440\\\\u043f\\\\u0440\\\\u0435\\\\u0441\\\\u0441\\\\u043e\\\\u0432\\\\u0430\\\\u043d\\\\u043d\\\\u044b\\\\u0439 \\\\u043a\\\\u0438\\\\u0440\\\\u043f\\\\u0438\\\\u0447 \\\\u043f\\\\u043e \\\\u0438\\\\u0441\\\\u043f\\\\u0430\\\\u043d\\\\u0441\\\\u043a\\\\u043e\\\\u0439 \\\\u0442\\\\u0435\\\\u0445\\\\u043d\\\\u043e\\\\u043b\\\\u043e\\\\u0433\\\\u0438\\\\u0438 \\\\u043d\\\\u0430 \\\\u0441\\\\u043e\\\\u0432\\\\u0440\\\\u0435\\\\u043c\\\\u0435\\\\u043d\\\\u043d\\\\u043e\\\\u043c \\\\u043e\\\\u0431\\\\u043e\\\\u0440\\\\u0443\\\\u0434\\\\u043e\\\\u0432\\\\u0430\\\\u043d\\\\u0438\\\\u0438. \\\\u041d\\\\u0430\\\\u0448\\\\u0435 \\\\u043f\\\\u0440\\\\u0435\\\\u0434\\\\u043f\\\\u0440\\\\u0438\\\\u044f\\\\u0442\\\\u0438\\\\u0435 \\\\u2013 \\\\u044d\\\\u0442\\\\u043e \\\\u0441\\\\u043e\\\\u0432\\\\u0440\\\\u0435\\\\u043c\\\\u0435\\\\u043d\\\\u043d\\\\u043e\\\\u0435 \\\\u0432\\\\u044b\\\\u0441\\\\u043e\\\\u043a\\\\u043e\\\\u0442\\\\u0435\\\\u0445\\\\u043d\\\\u043e\\\\u043b\\\\u043e\\\\u0433\\\\u0438\\\\u0447\\\\u043d\\\\u043e\\\\u0435 \\\\u043f\\\\u0440\\\\u043e\\\\u0438\\\\u0437\\\\u0432\\\\u043e\\\\u0434\\\\u0441\\\\u0442\\\\u0432\\\\u043e \\\\u043e\\\\u0431\\\\u043b\\\\u0438\\\\u0446\\\\u043e\\\\u0432\\\\u043e\\\\u0447\\\\u043d\\\\u043e\\\\u0433\\\\u043e \\\\u043a\\\\u0438\\\\u0440\\\\u043f\\\\u0438\\\\u0447\\\\u0430 \\\\u043c\\\\u0435\\\\u0442\\\\u043e\\\\u0434\\\\u043e\\\\u043c \\\\u0433\\\\u0438\\\\u043f\\\\u0435\\\\u0440\\\\u043f\\\\u0440\\\\u0435\\\\u0441\\\\u0441\\\\u043e\\\\u0432\\\\u0430\\\\u043d\\\\u0438\\\\u044f \\\\u043f\\\\u043e \\\\u0438\\\\u043d\\\\u043d\\\\u043e\\\\u0432\\\\u0430\\\\u0446\\\\u0438\\\\u043e\\\\u043d\\\\u043d\\\\u043e\\\\u0439 \\\\u0438\\\\u0441\\\\u043f\\\\u0430\\\\u043d\\\\u0441\\\\u043a\\\\u043e\\\\u0439 \\\\u0442\\\\u0435\\\\u0445\\\\u043d\\\\u043e\\\\u043b\\\\u043e\\\\u0433\\\\u0438\\\\u0438. \\\\u041d\\\\u043e\\\\u0432\\\\u0435\\\\u0439\\\\u0448\\\\u0435\\\\u0435 \\\\u043e\\\\u0431\\\\u043e\\\\u0440\\\\u0443\\\\u0434\\\\u043e\\\\u0432\\\\u0430\\\\u043d\\\\u0438\\\\u0435 \\\\u0437\\\\u0430\\\\u0432\\\\u043e\\\\u0434\\\\u0430 \\\\u043f\\\\u043e\\\\u0437\\\\u0432\\\\u043e\\\\u043b\\\\u044f\\\\u0435\\\\u0442 \\\\u0432\\\\u044b\\\\u043f\\\\u0443\\\\u0441\\\\u043a\\\\u0430\\\\u0442\\\\u044c \\\\u043f\\\\u0440\\\\u043e\\\\u0434\\\\u0443\\\\u043a\\\\u0446\\\\u0438\\\\u044e, \\\\u043f\\\\u043e \\\\u0432\\\\u0441\\\\u0435\\\\u043c \\\\u0445\\\\u0430\\\\u0440\\\\u0430\\\\u043a\\\\u0442\\\\u0435\\\\u0440\\\\u0438\\\\u0441\\\\u0442\\\\u0438\\\\u043a\\\\u0430\\\\u043c \\\\u043f\\\\u0440\\\\u0435\\\\u0432\\\\u044b\\\\u0448\\\\u0430\\\\u044e\\\\u0449\\\\u0443\\\\u044e \\\\u0441\\\\u0443\\\\u0449\\\\u0435\\\\u0441\\\\u0442\\\\u0432\\\\u0443\\\\u044e\\\\u0449\\\\u0438\\\\u0435 \\\\u0420\\\\u043e\\\\u0441\\\\u0441\\\\u0438\\\\u0439\\\\u0441\\\\u043a\\\\u0438\\\\u0435 \\\\u0430\\\\u043d\\\\u0430\\\\u043b\\\\u043e\\\\u0433\\\\u0438 \\\\u0438 \\\\u0441\\\\u043e\\\\u043e\\\\u0442\\\\u0432\\\\u0435\\\\u0442\\\\u0441\\\\u0442\\\\u0432\\\\u0443\\\\u044e\\\\u0449\\\\u0443\\\\u044e \\\\u0432\\\\u0441\\\\u0435\\\\u043c \\\\u0420\\\\u043e\\\\u0441\\\\u0441\\\\u0438\\\\u0439\\\\u0441\\\\u043a\\\\u0438\\\\u043c \\\\u0438 \\\\u0415\\\\u0432\\\\u0440\\\\u043e\\\\u043f\\\\u0435\\\\u0439\\\\u0441\\\\u043a\\\\u0438\\\\u043c\",\"inLanguage\":\"ru-RU\",\"isPartOf\":{\"@id\":\"http:\\\\/\\\\/001k.ru\\\\/#website\"},\"breadcrumb\":{\"@id\":\"http:\\\\/\\\\/001k.ru\\\\/#breadcrumblist\"},\"datePublished\":\"2019-05-10T03:48:21+03:00\",\"dateModified\":\"2023-09-01T11:32:18+03:00\"},{\"@type\":\"WebSite\",\"@id\":\"http:\\\\/\\\\/001k.ru\\\\/#website\",\"url\":\"http:\\\\/\\\\/001k.ru\\\\/\",\"name\":\"\\\\u041a\\\\u0438\\\\u0440\\\\u043f\\\\u0438\\\\u0447\\\\u043d\\\\u044b\\\\u0439 \\\\u0437\\\\u0430\\\\u0432\\\\u043e\\\\u0434 \\\\u21161\",\"description\":\"\\\\u043e\\\\u0431\\\\u043b\\\\u0438\\\\u0446\\\\u043e\\\\u0432\\\\u043e\\\\u0447\\\\u043d\\\\u044b\\\\u0439 \\\\u043a\\\\u0438\\\\u0440\\\\u043f\\\\u0438\\\\u0447 \\\\u043f\\\\u043e \\\\u0438\\\\u0441\\\\u043f\\\\u0430\\\\u043d\\\\u0441\\\\u043a\\\\u043e\\\\u0439 \\\\u0442\\\\u0435\\\\u0445\\\\u043d\\\\u043e\\\\u043b\\\\u043e\\\\u0433\\\\u0438\\\\u0438\",\"inLanguage\":\"ru-RU\",\"publisher\":{\"@id\":\"http:\\\\/\\\\/001k.ru\\\\/#organization\"},\"potentialAction\":{\"@type\":\"SearchAction\",\"target\":{\"@type\":\"EntryPoint\",\"urlTemplate\":\"http:\\\\/\\\\/001k.ru\\\\/?s={search_term_string}\"},\"query-input\":\"required name=search_term_string\"}}]}\\n\\t\\t</script>\\n\\t\\t<!-- All in One SEO -->\\n\\n<link rel=\"dns-prefetch\" href=\"//fonts.googleapis.com\" />\\n<link rel=\"dns-prefetch\" href=\"//s.w.org\" />\\n<link rel=\"alternate\" type=\"application/rss+xml\" title=\"Кирпичный завод №1 » Лента\" href=\"http://001k.ru/feed/\" />\\n<link rel=\"alternate\" type=\"application/rss+xml\" title=\"Кирпичный завод №1 » Лента комментариев\" href=\"http://001k.ru/comments/feed/\" />\\n<link rel=\"alternate\" type=\"application/rss+xml\" title=\"Кирпичный завод №1 » Лента комментариев к «Облицовочный кирпич»\" href=\"http://001k.ru/sample-page/feed/\" />\\n<script type=\"text/javascript\">\\nwindow._wpemojiSettings = {\"baseUrl\":\"https:\\\\/\\\\/s.w.org\\\\/images\\\\/core\\\\/emoji\\\\/13.1.0\\\\/72x72\\\\/\",\"ext\":\".png\",\"svgUrl\":\"https:\\\\/\\\\/s.w.org\\\\/images\\\\/core\\\\/emoji\\\\/13.1.0\\\\/svg\\\\/\",\"svgExt\":\".svg\",\"source\":{\"concatemoji\":\"http:\\\\/\\\\/001k.ru\\\\/wp-includes\\\\/js\\\\/wp-emoji-release.min.js?ver=5.9.7\"}};\\n/*! This file is auto-generated */\\n!function(e,a,t){var n,r,o,i=a.createElement(\"canvas\"),p=i.getContext&amp;&amp;i.getContext(\"2d\");function s(e,t){var a=String.fromCharCode;p.clearRect(0,0,i.width,i.height),p.fillText(a.apply(this,e),0,0);e=i.toDataURL();return p.clearRect(0,0,i.width,i.height),p.fillText(a.apply(this,t),0,0),e===i.toDataURL()}function c(e){var t=a.createElement(\"script\");t.src=e,t.defer=t.type=\"text/javascript\",a.getElementsByTagName(\"head\")[0].appendChild(t)}for(o=Array(\"flag\",\"emoji\"),t.supports={everything:!0,everythingExceptFlag:!0},r=0;r&lt;o.length;r++)t.supports[o[r]]=function(e){if(!p||!p.fillText)return!1;switch(p.textBaseline=\"top\",p.font=\"600 32px Arial\",e){case\"flag\":return s([127987,65039,8205,9895,65039],[127987,65039,8203,9895,65039])?!1:!s([55356,56826,55356,56819],[55356,56826,8203,55356,56819])&amp;&amp;!s([55356,57332,56128,56423,56128,56418,56128,56421,56128,56430,56128,56423,56128,56447],[55356,57332,8203,56128,56423,8203,56128,56418,8203,56128,56421,8203,56128,56430,8203,56128,56423,8203,56128,56447]);case\"emoji\":return!s([10084,65039,8205,55357,56613],[10084,65039,8203,55357,56613])}return!1}(o[r]),t.supports.everything=t.supports.everything&amp;&amp;t.supports[o[r]],\"flag\"!==o[r]&amp;&amp;(t.supports.everythingExceptFlag=t.supports.everythingExceptFlag&amp;&amp;t.supports[o[r]]);t.supports.everythingExceptFlag=t.supports.everythingExceptFlag&amp;&amp;!t.supports.flag,t.DOMReady=!1,t.readyCallback=function(){t.DOMReady=!0},t.supports.everything||(n=function(){t.readyCallback()},a.addEventListener?(a.addEventListener(\"DOMContentLoaded\",n,!1),e.addEventListener(\"load\",n,!1)):(e.attachEvent(\"onload\",n),a.attachEvent(\"onreadystatechange\",function(){\"complete\"===a.readyState&amp;&amp;t.readyCallback()})),(n=t.source||{}).concatemoji?c(n.concatemoji):n.wpemoji&amp;&amp;n.twemoji&amp;&amp;(c(n.twemoji),c(n.wpemoji)))}(window,document,window._wpemojiSettings);\\n</script><script src=\"http://001k.ru/wp-includes/js/wp-emoji-release.min.js?ver=5.9.7\" type=\"text/javascript\" defer=\"\"></script>\\n<style type=\"text/css\">\\nimg.wp-smiley,\\nimg.emoji {\\n\\tdisplay: inline !important;\\n\\tborder: none !important;\\n\\tbox-shadow: none !important;\\n\\theight: 1em !important;\\n\\twidth: 1em !important;\\n\\tmargin: 0 0.07em !important;\\n\\tvertical-align: -0.1em !important;\\n\\tbackground: none !important;\\n\\tpadding: 0 !important;\\n}\\n</style>\\n\\t<link rel=\"stylesheet\" id=\"wp-block-library-css\" href=\"http://001k.ru/wp-includes/css/dist/block-library/style.min.css?ver=5.9.7\" type=\"text/css\" media=\"all\" />\\n<style id=\"global-styles-inline-css\" type=\"text/css\">\\nbody{--wp--preset--color--black: #000000;--wp--preset--color--cyan-bluish-gray: #abb8c3;--wp--preset--color--white: #ffffff;--wp--preset--color--pale-pink: #f78da7;--wp--preset--color--vivid-red: #cf2e2e;--wp--preset--color--luminous-vivid-orange: #ff6900;--wp--preset--color--luminous-vivid-amber: #fcb900;--wp--preset--color--light-green-cyan: #7bdcb5;--wp--preset--color--vivid-green-cyan: #00d084;--wp--preset--color--pale-cyan-blue: #8ed1fc;--wp--preset--color--vivid-cyan-blue: #0693e3;--wp--preset--color--vivid-purple: #9b51e0;--wp--preset--gradient--vivid-cyan-blue-to-vivid-purple: linear-gradient(135deg,rgba(6,147,227,1) 0%,rgb(155,81,224) 100%);--wp--preset--gradient--light-green-cyan-to-vivid-green-cyan: linear-gradient(135deg,rgb(122,220,180) 0%,rgb(0,208,130) 100%);--wp--preset--gradient--luminous-vivid-amber-to-luminous-vivid-orange: linear-gradient(135deg,rgba(252,185,0,1) 0%,rgba(255,105,0,1) 100%);--wp--preset--gradient--luminous-vivid-orange-to-vivid-red: linear-gradient(135deg,rgba(255,105,0,1) 0%,rgb(207,46,46) 100%);--wp--preset--gradient--very-light-gray-to-cyan-bluish-gray: linear-gradient(135deg,rgb(238,238,238) 0%,rgb(169,184,195) 100%);--wp--preset--gradient--cool-to-warm-spectrum: linear-gradient(135deg,rgb(74,234,220) 0%,rgb(151,120,209) 20%,rgb(207,42,186) 40%,rgb(238,44,130) 60%,rgb(251,105,98) 80%,rgb(254,248,76) 100%);--wp--preset--gradient--blush-light-purple: linear-gradient(135deg,rgb(255,206,236) 0%,rgb(152,150,240) 100%);--wp--preset--gradient--blush-bordeaux: linear-gradient(135deg,rgb(254,205,165) 0%,rgb(254,45,45) 50%,rgb(107,0,62) 100%);--wp--preset--gradient--luminous-dusk: linear-gradient(135deg,rgb(255,203,112) 0%,rgb(199,81,192) 50%,rgb(65,88,208) 100%);--wp--preset--gradient--pale-ocean: linear-gradient(135deg,rgb(255,245,203) 0%,rgb(182,227,212) 50%,rgb(51,167,181) 100%);--wp--preset--gradient--electric-grass: linear-gradient(135deg,rgb(202,248,128) 0%,rgb(113,206,126) 100%);--wp--preset--gradient--midnight: linear-gradient(135deg,rgb(2,3,129) 0%,rgb(40,116,252) 100%);--wp--preset--duotone--dark-grayscale: url(\\'#wp-duotone-dark-grayscale\\');--wp--preset--duotone--grayscale: url(\\'#wp-duotone-grayscale\\');--wp--preset--duotone--purple-yellow: url(\\'#wp-duotone-purple-yellow\\');--wp--preset--duotone--blue-red: url(\\'#wp-duotone-blue-red\\');--wp--preset--duotone--midnight: url(\\'#wp-duotone-midnight\\');--wp--preset--duotone--magenta-yellow: url(\\'#wp-duotone-magenta-yellow\\');--wp--preset--duotone--purple-green: url(\\'#wp-duotone-purple-green\\');--wp--preset--duotone--blue-orange: url(\\'#wp-duotone-blue-orange\\');--wp--preset--font-size--small: 13px;--wp--preset--font-size--medium: 20px;--wp--preset--font-size--large: 36px;--wp--preset--font-size--x-large: 42px;}.has-black-color{color: var(--wp--preset--color--black) !important;}.has-cyan-bluish-gray-color{color: var(--wp--preset--color--cyan-bluish-gray) !important;}.has-white-color{color: var(--wp--preset--color--white) !important;}.has-pale-pink-color{color: var(--wp--preset--color--pale-pink) !important;}.has-vivid-red-color{color: var(--wp--preset--color--vivid-red) !important;}.has-luminous-vivid-orange-color{color: var(--wp--preset--color--luminous-vivid-orange) !important;}.has-luminous-vivid-amber-color{color: var(--wp--preset--color--luminous-vivid-amber) !important;}.has-light-green-cyan-color{color: var(--wp--preset--color--light-green-cyan) !important;}.has-vivid-green-cyan-color{color: var(--wp--preset--color--vivid-green-cyan) !important;}.has-pale-cyan-blue-color{color: var(--wp--preset--color--pale-cyan-blue) !important;}.has-vivid-cyan-blue-color{color: var(--wp--preset--color--vivid-cyan-blue) !important;}.has-vivid-purple-color{color: var(--wp--preset--color--vivid-purple) !important;}.has-black-background-color{background-color: var(--wp--preset--color--black) !important;}.has-cyan-bluish-gray-background-color{background-color: var(--wp--preset--color--cyan-bluish-gray) !important;}.has-white-background-color{background-color: var(--wp--preset--color--white) !important;}.has-pale-pink-background-color{background-color: var(--wp--preset--color--pale-pink) !important;}.has-vivid-red-background-color{background-color: var(--wp--preset--color--vivid-red) !important;}.has-luminous-vivid-orange-background-color{background-color: var(--wp--preset--color--luminous-vivid-orange) !important;}.has-luminous-vivid-amber-background-color{background-color: var(--wp--preset--color--luminous-vivid-amber) !important;}.has-light-green-cyan-background-color{background-color: var(--wp--preset--color--light-green-cyan) !important;}.has-vivid-green-cyan-background-color{background-color: var(--wp--preset--color--vivid-green-cyan) !important;}.has-pale-cyan-blue-background-color{background-color: var(--wp--preset--color--pale-cyan-blue) !important;}.has-vivid-cyan-blue-background-color{background-color: var(--wp--preset--color--vivid-cyan-blue) !important;}.has-vivid-purple-background-color{background-color: var(--wp--preset--color--vivid-purple) !important;}.has-black-border-color{border-color: var(--wp--preset--color--black) !important;}.has-cyan-bluish-gray-border-color{border-color: var(--wp--preset--color--cyan-bluish-gray) !important;}.has-white-border-color{border-color: var(--wp--preset--color--white) !important;}.has-pale-pink-border-color{border-color: var(--wp--preset--color--pale-pink) !important;}.has-vivid-red-border-color{border-color: var(--wp--preset--color--vivid-red) !important;}.has-luminous-vivid-orange-border-color{border-color: var(--wp--preset--color--luminous-vivid-orange) !important;}.has-luminous-vivid-amber-border-color{border-color: var(--wp--preset--color--luminous-vivid-amber) !important;}.has-light-green-cyan-border-color{border-color: var(--wp--preset--color--light-green-cyan) !important;}.has-vivid-green-cyan-border-color{border-color: var(--wp--preset--color--vivid-green-cyan) !important;}.has-pale-cyan-blue-border-color{border-color: var(--wp--preset--color--pale-cyan-blue) !important;}.has-vivid-cyan-blue-border-color{border-color: var(--wp--preset--color--vivid-cyan-blue) !important;}.has-vivid-purple-border-color{border-color: var(--wp--preset--color--vivid-purple) !important;}.has-vivid-cyan-blue-to-vivid-purple-gradient-background{background: var(--wp--preset--gradient--vivid-cyan-blue-to-vivid-purple) !important;}.has-light-green-cyan-to-vivid-green-cyan-gradient-background{background: var(--wp--preset--gradient--light-green-cyan-to-vivid-green-cyan) !important;}.has-luminous-vivid-amber-to-luminous-vivid-orange-gradient-background{background: var(--wp--preset--gradient--luminous-vivid-amber-to-luminous-vivid-orange) !important;}.has-luminous-vivid-orange-to-vivid-red-gradient-background{background: var(--wp--preset--gradient--luminous-vivid-orange-to-vivid-red) !important;}.has-very-light-gray-to-cyan-bluish-gray-gradient-background{background: var(--wp--preset--gradient--very-light-gray-to-cyan-bluish-gray) !important;}.has-cool-to-warm-spectrum-gradient-background{background: var(--wp--preset--gradient--cool-to-warm-spectrum) !important;}.has-blush-light-purple-gradient-background{background: var(--wp--preset--gradient--blush-light-purple) !important;}.has-blush-bordeaux-gradient-background{background: var(--wp--preset--gradient--blush-bordeaux) !important;}.has-luminous-dusk-gradient-background{background: var(--wp--preset--gradient--luminous-dusk) !important;}.has-pale-ocean-gradient-background{background: var(--wp--preset--gradient--pale-ocean) !important;}.has-electric-grass-gradient-background{background: var(--wp--preset--gradient--electric-grass) !important;}.has-midnight-gradient-background{background: var(--wp--preset--gradient--midnight) !important;}.has-small-font-size{font-size: var(--wp--preset--font-size--small) !important;}.has-medium-font-size{font-size: var(--wp--preset--font-size--medium) !important;}.has-large-font-size{font-size: var(--wp--preset--font-size--large) !important;}.has-x-large-font-size{font-size: var(--wp--preset--font-size--x-large) !important;}\\n</style>\\n<link rel=\"stylesheet\" id=\"contact-form-7-css\" href=\"http://001k.ru/wp-content/plugins/contact-form-7/includes/css/styles.css?ver=5.7.7\" type=\"text/css\" media=\"all\" />\\n<link rel=\"stylesheet\" id=\"screenr-fonts-css\" href=\"https://fonts.googleapis.com/css?family=Open%2BSans%3A400%2C300%2C300italic%2C400italic%2C600%2C600italic%2C700%2C700italic%7CMontserrat%3A400%2C700&amp;subset=latin%2Clatin-ext\" type=\"text/css\" media=\"all\" />\\n<link rel=\"stylesheet\" id=\"font-awesome-css\" href=\"http://001k.ru/wp-content/themes/screenr/assets/css/font-awesome.min.css?ver=4.0.0\" type=\"text/css\" media=\"all\" />\\n<link rel=\"stylesheet\" id=\"bootstrap-css\" href=\"http://001k.ru/wp-content/themes/screenr/assets/css/bootstrap.min.css?ver=4.0.0\" type=\"text/css\" media=\"all\" />\\n<link rel=\"stylesheet\" id=\"screenr-style-css\" href=\"http://001k.ru/wp-content/themes/screenr/style.css?ver=5.9.7\" type=\"text/css\" media=\"all\" />\\n<style id=\"screenr-style-inline-css\" type=\"text/css\">\\n\\t.swiper-slider .swiper-slide .overlay {\\n\\t\\tbackground-color: #eeee22;\\n\\t\\topacity: 1;\\n\\t}\\n\\t\\t\\t#page-header-cover.swiper-slider.no-image .swiper-slide .overlay {\\n\\t\\tbackground-color: #000000;\\n\\t\\topacity: 1;\\n\\t}\\n\\t\\n\\t\\n\\t\\n\\t\\n\\t\\n\\t\\n\\t\\n\\t\\t.gallery-carousel .g-item{\\n\\t\\tpadding: 0px 10px;\\n\\t}\\n\\t.gallery-carousel {\\n\\t\\tmargin-left: -10px;\\n\\t\\tmargin-right: -10px;\\n\\t}\\n\\t.gallery-grid .g-item, .gallery-masonry .g-item .inner {\\n\\t\\tpadding: 10px;\\n\\t}\\n\\t.gallery-grid, .gallery-masonry {\\n\\t\\tmargin: -10px;\\n\\t}\\n\\t\\n</style>\\n<link rel=\"stylesheet\" id=\"screenr-gallery-lightgallery-css\" href=\"http://001k.ru/wp-content/themes/screenr/assets/css/lightgallery.css?ver=5.9.7\" type=\"text/css\" media=\"all\" />\\n<script type=\"text/javascript\" src=\"http://001k.ru/wp-includes/js/jquery/jquery.min.js?ver=3.6.0\" id=\"jquery-core-js\"></script>\\n<script type=\"text/javascript\" src=\"http://001k.ru/wp-includes/js/jquery/jquery-migrate.min.js?ver=3.3.2\" id=\"jquery-migrate-js\"></script>\\n<link rel=\"https://api.w.org/\" href=\"http://001k.ru/wp-json/\" /><link rel=\"alternate\" type=\"application/json\" href=\"http://001k.ru/wp-json/wp/v2/pages/2\" /><link rel=\"EditURI\" type=\"application/rsd+xml\" title=\"RSD\" href=\"http://001k.ru/xmlrpc.php?rsd\" />\\n<link rel=\"wlwmanifest\" type=\"application/wlwmanifest+xml\" href=\"http://001k.ru/wp-includes/wlwmanifest.xml\" /> \\n<meta name=\"generator\" content=\"WordPress 5.9.7\" />\\n<link rel=\"shortlink\" href=\"http://001k.ru/\" />\\n<link rel=\"alternate\" type=\"application/json+oembed\" href=\"http://001k.ru/wp-json/oembed/1.0/embed?url=http%3A%2F%2F001k.ru%2F\" />\\n<link rel=\"alternate\" type=\"text/xml+oembed\" href=\"http://001k.ru/wp-json/oembed/1.0/embed?url=http%3A%2F%2F001k.ru%2F&amp;format=xml\" />\\n<style type=\"text/css\" id=\"custom-background-css\">\\nbody.custom-background { background-image: url(\"http://001k.ru/wp-content/uploads/2023/06/кость.png\"); background-position: left top; background-size: auto; background-repeat: repeat; background-attachment: scroll; }\\n</style>\\n\\t</head>\\n\\n<body class=\"home page-template-default page page-id-2 custom-background has-site-title has-site-tagline header-layout-fixed\">\\n<svg xmlns=\"http://www.w3.org/2000/svg\" viewBox=\"0 0 0 0\" width=\"0\" height=\"0\" focusable=\"false\" role=\"none\" style=\"visibility: hidden; position: absolute; left: -9999px; overflow: hidden;\"><defs><filter id=\"wp-duotone-dark-grayscale\"><feColorMatrix color-interpolation-filters=\"sRGB\" type=\"matrix\" values=\" .299 .587 .114 0 0 .299 .587 .114 0 0 .299 .587 .114 0 0 .299 .587 .114 0 0 \"/><feComponentTransfer color-interpolation-filters=\"sRGB\"><feFuncR type=\"table\" tableValues=\"0 0.49803921568627\"/><feFuncG type=\"table\" tableValues=\"0 0.49803921568627\"/><feFuncB type=\"table\" tableValues=\"0 0.49803921568627\"/><feFuncA type=\"table\" tableValues=\"1 1\"/></feComponentTransfer><feComposite in2=\"SourceGraphic\" operator=\"in\"/></filter></defs></svg><svg xmlns=\"http://www.w3.org/2000/svg\" viewBox=\"0 0 0 0\" width=\"0\" height=\"0\" focusable=\"false\" role=\"none\" style=\"visibility: hidden; position: absolute; left: -9999px; overflow: hidden;\"><defs><filter id=\"wp-duotone-grayscale\"><feColorMatrix color-interpolation-filters=\"sRGB\" type=\"matrix\" values=\" .299 .587 .114 0 0 .299 .587 .114 0 0 .299 .587 .114 0 0 .299 .587 .114 0 0 \"/><feComponentTransfer color-interpolation-filters=\"sRGB\"><feFuncR type=\"table\" tableValues=\"0 1\"/><feFuncG type=\"table\" tableValues=\"0 1\"/><feFuncB type=\"table\" tableValues=\"0 1\"/><feFuncA type=\"table\" tableValues=\"1 1\"/></feComponentTransfer><feComposite in2=\"SourceGraphic\" operator=\"in\"/></filter></defs></svg><svg xmlns=\"http://www.w3.org/2000/svg\" viewBox=\"0 0 0 0\" width=\"0\" height=\"0\" focusable=\"false\" role=\"none\" style=\"visibility: hidden; position: absolute; left: -9999px; overflow: hidden;\"><defs><filter id=\"wp-duotone-purple-yellow\"><feColorMatrix color-interpolation-filters=\"sRGB\" type=\"matrix\" values=\" .299 .587 .114 0 0 .299 .587 .114 0 0 .299 .587 .114 0 0 .299 .587 .114 0 0 \"/><feComponentTransfer color-interpolation-filters=\"sRGB\"><feFuncR type=\"table\" tableValues=\"0.54901960784314 0.98823529411765\"/><feFuncG type=\"table\" tableValues=\"0 1\"/><feFuncB type=\"table\" tableValues=\"0.71764705882353 0.25490196078431\"/><feFuncA type=\"table\" tableValues=\"1 1\"/></feComponentTransfer><feComposite in2=\"SourceGraphic\" operator=\"in\"/></filter></defs></svg><svg xmlns=\"http://www.w3.org/2000/svg\" viewBox=\"0 0 0 0\" width=\"0\" height=\"0\" focusable=\"false\" role=\"none\" style=\"visibility: hidden; position: absolute; left: -9999px; overflow: hidden;\"><defs><filter id=\"wp-duotone-blue-red\"><feColorMatrix color-interpolation-filters=\"sRGB\" type=\"matrix\" values=\" .299 .587 .114 0 0 .299 .587 .114 0 0 .299 .587 .114 0 0 .299 .587 .114 0 0 \"/><feComponentTransfer color-interpolation-filters=\"sRGB\"><feFuncR type=\"table\" tableValues=\"0 1\"/><feFuncG type=\"table\" tableValues=\"0 0.27843137254902\"/><feFuncB type=\"table\" tableValues=\"0.5921568627451 0.27843137254902\"/><feFuncA type=\"table\" tableValues=\"1 1\"/></feComponentTransfer><feComposite in2=\"SourceGraphic\" operator=\"in\"/></filter></defs></svg><svg xmlns=\"http://www.w3.org/2000/svg\" viewBox=\"0 0 0 0\" width=\"0\" height=\"0\" focusable=\"false\" role=\"none\" style=\"visibility: hidden; position: absolute; left: -9999px; overflow: hidden;\"><defs><filter id=\"wp-duotone-midnight\"><feColorMatrix color-interpolation-filters=\"sRGB\" type=\"matrix\" values=\" .299 .587 .114 0 0 .299 .587 .114 0 0 .299 .587 .114 0 0 .299 .587 .114 0 0 \"/><feComponentTransfer color-interpolation-filters=\"sRGB\"><feFuncR type=\"table\" tableValues=\"0 0\"/><feFuncG type=\"table\" tableValues=\"0 0.64705882352941\"/><feFuncB type=\"table\" tableValues=\"0 1\"/><feFuncA type=\"table\" tableValues=\"1 1\"/></feComponentTransfer><feComposite in2=\"SourceGraphic\" operator=\"in\"/></filter></defs></svg><svg xmlns=\"http://www.w3.org/2000/svg\" viewBox=\"0 0 0 0\" width=\"0\" height=\"0\" focusable=\"false\" role=\"none\" style=\"visibility: hidden; position: absolute; left: -9999px; overflow: hidden;\"><defs><filter id=\"wp-duotone-magenta-yellow\"><feColorMatrix color-interpolation-filters=\"sRGB\" type=\"matrix\" values=\" .299 .587 .114 0 0 .299 .587 .114 0 0 .299 .587 .114 0 0 .299 .587 .114 0 0 \"/><feComponentTransfer color-interpolation-filters=\"sRGB\"><feFuncR type=\"table\" tableValues=\"0.78039215686275 1\"/><feFuncG type=\"table\" tableValues=\"0 0.94901960784314\"/><feFuncB type=\"table\" tableValues=\"0.35294117647059 0.47058823529412\"/><feFuncA type=\"table\" tableValues=\"1 1\"/></feComponentTransfer><feComposite in2=\"SourceGraphic\" operator=\"in\"/></filter></defs></svg><svg xmlns=\"http://www.w3.org/2000/svg\" viewBox=\"0 0 0 0\" width=\"0\" height=\"0\" focusable=\"false\" role=\"none\" style=\"visibility: hidden; position: absolute; left: -9999px; overflow: hidden;\"><defs><filter id=\"wp-duotone-purple-green\"><feColorMatrix color-interpolation-filters=\"sRGB\" type=\"matrix\" values=\" .299 .587 .114 0 0 .299 .587 .114 0 0 .299 .587 .114 0 0 .299 .587 .114 0 0 \"/><feComponentTransfer color-interpolation-filters=\"sRGB\"><feFuncR type=\"table\" tableValues=\"0.65098039215686 0.40392156862745\"/><feFuncG type=\"table\" tableValues=\"0 1\"/><feFuncB type=\"table\" tableValues=\"0.44705882352941 0.4\"/><feFuncA type=\"table\" tableValues=\"1 1\"/></feComponentTransfer><feComposite in2=\"SourceGraphic\" operator=\"in\"/></filter></defs></svg><svg xmlns=\"http://www.w3.org/2000/svg\" viewBox=\"0 0 0 0\" width=\"0\" height=\"0\" focusable=\"false\" role=\"none\" style=\"visibility: hidden; position: absolute; left: -9999px; overflow: hidden;\"><defs><filter id=\"wp-duotone-blue-orange\"><feColorMatrix color-interpolation-filters=\"sRGB\" type=\"matrix\" values=\" .299 .587 .114 0 0 .299 .587 .114 0 0 .299 .587 .114 0 0 .299 .587 .114 0 0 \"/><feComponentTransfer color-interpolation-filters=\"sRGB\"><feFuncR type=\"table\" tableValues=\"0.098039215686275 1\"/><feFuncG type=\"table\" tableValues=\"0 0.66274509803922\"/><feFuncB type=\"table\" tableValues=\"0.84705882352941 0.41960784313725\"/><feFuncA type=\"table\" tableValues=\"1 1\"/></feComponentTransfer><feComposite in2=\"SourceGraphic\" operator=\"in\"/></filter></defs></svg><div id=\"page\" class=\"site\">\\n\\t<a class=\"skip-link screen-reader-text\" href=\"#content\">Перейти к содержанию</a>\\n    \\t<header id=\"masthead\" class=\"site-header\" role=\"banner\">\\n\\t\\t<div class=\"container\">\\n\\t\\t\\t    <div class=\"site-branding\">\\n                        <h1 class=\"site-title\"><a href=\"http://001k.ru/\" rel=\"home\">Кирпичный завод №1</a></h1>\\n                </div><!-- .site-branding -->\\n    \\n\\t\\t\\t<div class=\"header-right-wrapper\">\\n\\t\\t\\t\\t<a href=\"#\" id=\"nav-toggle\">Меню<span></span></a>\\n\\t\\t\\t\\t<nav id=\"site-navigation\" class=\"main-navigation\" role=\"navigation\">\\n\\t\\t\\t\\t\\t<ul class=\"nav-menu\">\\n\\t\\t\\t\\t\\t\\t<li id=\"menu-item-76\" class=\"menu-item menu-item-type-post_type menu-item-object-page menu-item-home current-menu-item page_item page-item-2 current_page_item menu-item-76\"><a href=\"http://001k.ru/\" aria-current=\"page\">Облицовочный кирпич</a></li>\\n<li id=\"menu-item-77\" class=\"menu-item menu-item-type-post_type menu-item-object-page menu-item-77\"><a href=\"http://001k.ru/%d0%ba%d0%be%d0%bd%d1%82%d0%b0%d0%ba%d1%82%d1%8b-%d0%b8-%d1%81%d1%85%d0%b5%d0%bc%d0%b0-%d0%bf%d1%80%d0%be%d0%b5%d0%b7%d0%b4%d0%b0/\">Контакты и схема проезда</a></li>\\n<li id=\"menu-item-78\" class=\"menu-item menu-item-type-post_type menu-item-object-page menu-item-78\"><a href=\"http://001k.ru/%d0%bf%d1%80%d0%b0%d0%b9%d1%81-%d0%bd%d0%b0-%d0%be%d0%b1%d0%bb%d0%b8%d1%86%d0%be%d0%b2%d0%be%d1%87%d0%bd%d1%8b%d0%b9-%d0%ba%d0%b8%d1%80%d0%bf%d0%b8%d1%87/\">Прайс на облицовочный кирпич</a></li>\\n\\t\\t\\t\\t\\t</ul>\\n\\t\\t\\t\\t</nav>\\n\\t\\t\\t\\t<!-- #site-navigation -->\\n\\t\\t\\t</div>\\n\\n\\t\\t</div>\\n\\t</header><!-- #masthead -->\\n\\t<section id=\"page-header-cover\" class=\"section-slider swiper-slider fixed no-image\">\\n\\t\\t<div class=\"swiper-container swiper-container-horizontal\" data-autoplay=\"0\" style=\"top: 0px;\">\\n\\t\\t\\t<div class=\"swiper-wrapper \">\\n\\t\\t\\t\\t<div class=\"swiper-slide slide-align-center activated swiper-slide-active\" style=\"width: 930px;\"><div class=\"swiper-slide-intro\" style=\"opacity: 1;\"><div class=\"swiper-intro-inner\" style=\"padding-top: 13%; padding-bottom: 13%; \"><h2 class=\"swiper-slide-heading\">Облицовочный кирпич</h2></div></div><div class=\"overlay\" style=\"opacity: 1;\"></div></div>\\t\\t\\t</div>\\n\\t\\t</div>\\n\\t</section>\\n\\t\\t<div id=\"content\" class=\"site-content\">\\n\\t\\t<div id=\"content-inside\" class=\"container no-sidebar\">\\n\\t\\t\\t<div id=\"primary\" class=\"content-area\">\\n\\t\\t\\t\\t<main id=\"main\" class=\"site-main\" role=\"main\">\\n\\t\\t\\t\\t\\n<article id=\"post-2\" class=\"post-2 page type-page status-publish hentry\">\\n\\t<div class=\"entry-content\">\\n\\t\\t\\n<p class=\"has-large-font-size\">Кирпичный завод №1.</p>\\n\\n\\n\\n<p class=\"has-large-font-size\">+ 7 8442 53-07-07</p>\\n\\n\\n\\n<div class=\"wp-block-media-text has-media-on-the-right is-stacked-on-mobile\"><figure class=\"wp-block-media-text__media\"><video controls=\"\" src=\"http://001k.ru/wp-content/uploads/2023/06/VID-20230628-WA0016.mp4\"></video></figure><div class=\"wp-block-media-text__content\">\\n<p class=\"has-large-font-size\"> </p>\\n\\n\\n\\n<p class=\"has-large-font-size\">Наше производство</p>\\n</div></div>\\n\\n\\n\\n<div class=\"wp-block-media-text has-media-on-the-right is-stacked-on-mobile\"><figure class=\"wp-block-media-text__media\"><video controls=\"\" src=\"http://001k.ru/wp-content/uploads/2023/06/VID-20230628-WA0009-3.mp4\"></video></figure><div class=\"wp-block-media-text__content\">\\n<p class=\"has-large-font-size\">Примеры работ</p>\\n</div></div>\\n\\n\\n\\n<p>Мы производим гиперпрессованный облицовочный кирпич по испанской технологии на современном оборудовании. </p>\\n\\n\\n\\n<p>Наше предприятие – это современное высокотехнологичное производство облицовочного кирпича методом гиперпрессования по инновационной испанской технологии. Новейшее оборудование завода позволяет выпускать продукцию, по всем характеристикам превышающую существующие Российские аналоги и соответствующую всем Российским и Европейским стандартам. Ассортимент выпускаемой продукции включает как широчайшую цветовую гамму, так и сортамент полнотелых, пустотелых, фасонных и «колотых» кирпичей. Завод производит одинарный и полуторный кирпич. Гиперпрессованный кирпич может применяться для кладки несущих конструкций зданий с сухим, нормальным и влажным режимом эксплуатации, в том числе наружных и внутренних стен зданий: для стен, подвалов и цоколей.</p>\\n\\n\\n\\n<figure class=\"wp-block-gallery has-nested-images columns-default is-cropped\">\\n<figure class=\"wp-block-image size-large\"><img width=\"1600\" height=\"1200\" data-id=\"24\" src=\"http://001k.ru/wp-content/uploads/2023/06/IMG-20230628-WA0031.jpg\" alt=\"\" class=\"wp-image-24\" srcset=\"http://001k.ru/wp-content/uploads/2023/06/IMG-20230628-WA0031.jpg 1600w, http://001k.ru/wp-content/uploads/2023/06/IMG-20230628-WA0031-300x225.jpg 300w, http://001k.ru/wp-content/uploads/2023/06/IMG-20230628-WA0031-1024x768.jpg 1024w, http://001k.ru/wp-content/uploads/2023/06/IMG-20230628-WA0031-768x576.jpg 768w, http://001k.ru/wp-content/uploads/2023/06/IMG-20230628-WA0031-1536x1152.jpg 1536w, http://001k.ru/wp-content/uploads/2023/06/IMG-20230628-WA0031-1200x900.jpg 1200w\" sizes=\"(max-width: 1600px) 100vw, 1600px\" /><figcaption>Колотый серый кирпич</figcaption></figure>\\n\\n\\n\\n<figure class=\"wp-block-image size-large\"><img loading=\"lazy\" width=\"1200\" height=\"1600\" data-id=\"25\" src=\"http://001k.ru/wp-content/uploads/2023/06/IMG-20230628-WA0032.jpg\" alt=\"\" class=\"wp-image-25\" srcset=\"http://001k.ru/wp-content/uploads/2023/06/IMG-20230628-WA0032.jpg 1200w, http://001k.ru/wp-content/uploads/2023/06/IMG-20230628-WA0032-225x300.jpg 225w, http://001k.ru/wp-content/uploads/2023/06/IMG-20230628-WA0032-768x1024.jpg 768w, http://001k.ru/wp-content/uploads/2023/06/IMG-20230628-WA0032-1152x1536.jpg 1152w\" sizes=\"(max-width: 1200px) 100vw, 1200px\" /><figcaption>Колотый кирпич слоновая кость</figcaption></figure>\\n\\n\\n\\n<figure class=\"wp-block-image size-large\"><img loading=\"lazy\" width=\"1600\" height=\"1200\" data-id=\"23\" src=\"http://001k.ru/wp-content/uploads/2023/06/IMG-20230628-WA0030.jpg\" alt=\"\" class=\"wp-image-23\" srcset=\"http://001k.ru/wp-content/uploads/2023/06/IMG-20230628-WA0030.jpg 1600w, http://001k.ru/wp-content/uploads/2023/06/IMG-20230628-WA0030-300x225.jpg 300w, http://001k.ru/wp-content/uploads/2023/06/IMG-20230628-WA0030-1024x768.jpg 1024w, http://001k.ru/wp-content/uploads/2023/06/IMG-20230628-WA0030-768x576.jpg 768w, http://001k.ru/wp-content/uploads/2023/06/IMG-20230628-WA0030-1536x1152.jpg 1536w, http://001k.ru/wp-content/uploads/2023/06/IMG-20230628-WA0030-1200x900.jpg 1200w\" sizes=\"(max-width: 1600px) 100vw, 1600px\" /><figcaption>Колотый кирпич каппучино</figcaption></figure>\\n\\n\\n\\n<figure class=\"wp-block-image size-large\"><img loading=\"lazy\" width=\"1600\" height=\"1200\" data-id=\"22\" src=\"http://001k.ru/wp-content/uploads/2023/06/IMG-20230628-WA0029.jpg\" alt=\"\" class=\"wp-image-22\" srcset=\"http://001k.ru/wp-content/uploads/2023/06/IMG-20230628-WA0029.jpg 1600w, http://001k.ru/wp-content/uploads/2023/06/IMG-20230628-WA0029-300x225.jpg 300w, http://001k.ru/wp-content/uploads/2023/06/IMG-20230628-WA0029-1024x768.jpg 1024w, http://001k.ru/wp-content/uploads/2023/06/IMG-20230628-WA0029-768x576.jpg 768w, http://001k.ru/wp-content/uploads/2023/06/IMG-20230628-WA0029-1536x1152.jpg 1536w, http://001k.ru/wp-content/uploads/2023/06/IMG-20230628-WA0029-1200x900.jpg 1200w\" sizes=\"(max-width: 1600px) 100vw, 1600px\" /><figcaption>Колотый кирпич слоновая кость</figcaption></figure>\\n\\n\\n\\n<figure class=\"wp-block-image size-large\"><img loading=\"lazy\" width=\"1600\" height=\"1200\" data-id=\"21\" src=\"http://001k.ru/wp-content/uploads/2023/06/IMG-20230628-WA0028.jpg\" alt=\"\" class=\"wp-image-21\" srcset=\"http://001k.ru/wp-content/uploads/2023/06/IMG-20230628-WA0028.jpg 1600w, http://001k.ru/wp-content/uploads/2023/06/IMG-20230628-WA0028-300x225.jpg 300w, http://001k.ru/wp-content/uploads/2023/06/IMG-20230628-WA0028-1024x768.jpg 1024w, http://001k.ru/wp-content/uploads/2023/06/IMG-20230628-WA0028-768x576.jpg 768w, http://001k.ru/wp-content/uploads/2023/06/IMG-20230628-WA0028-1536x1152.jpg 1536w, http://001k.ru/wp-content/uploads/2023/06/IMG-20230628-WA0028-1200x900.jpg 1200w\" sizes=\"(max-width: 1600px) 100vw, 1600px\" /><figcaption>гладкий кирпич каппучиино</figcaption></figure>\\n\\n\\n\\n<figure class=\"wp-block-image size-large\"><img loading=\"lazy\" width=\"1200\" height=\"1600\" data-id=\"20\" src=\"http://001k.ru/wp-content/uploads/2023/06/IMG-20230628-WA0027.jpg\" alt=\"\" class=\"wp-image-20\" srcset=\"http://001k.ru/wp-content/uploads/2023/06/IMG-20230628-WA0027.jpg 1200w, http://001k.ru/wp-content/uploads/2023/06/IMG-20230628-WA0027-225x300.jpg 225w, http://001k.ru/wp-content/uploads/2023/06/IMG-20230628-WA0027-768x1024.jpg 768w, http://001k.ru/wp-content/uploads/2023/06/IMG-20230628-WA0027-1152x1536.jpg 1152w\" sizes=\"(max-width: 1200px) 100vw, 1200px\" /><figcaption>Серый колотый кирпич</figcaption></figure>\\n\\n\\n\\n<figure class=\"wp-block-image size-large\"><img loading=\"lazy\" width=\"1600\" height=\"1200\" data-id=\"19\" src=\"http://001k.ru/wp-content/uploads/2023/06/IMG-20230628-WA0026.jpg\" alt=\"\" class=\"wp-image-19\" srcset=\"http://001k.ru/wp-content/uploads/2023/06/IMG-20230628-WA0026.jpg 1600w, http://001k.ru/wp-content/uploads/2023/06/IMG-20230628-WA0026-300x225.jpg 300w, http://001k.ru/wp-content/uploads/2023/06/IMG-20230628-WA0026-1024x768.jpg 1024w, http://001k.ru/wp-content/uploads/2023/06/IMG-20230628-WA0026-768x576.jpg 768w, http://001k.ru/wp-content/uploads/2023/06/IMG-20230628-WA0026-1536x1152.jpg 1536w, http://001k.ru/wp-content/uploads/2023/06/IMG-20230628-WA0026-1200x900.jpg 1200w\" sizes=\"(max-width: 1600px) 100vw, 1600px\" /><figcaption>Слоновая кость</figcaption></figure>\\n\\n\\n\\n<figure class=\"wp-block-image size-large\"><img loading=\"lazy\" width=\"1600\" height=\"1200\" data-id=\"18\" src=\"http://001k.ru/wp-content/uploads/2023/06/IMG-20230628-WA0025.jpg\" alt=\"\" class=\"wp-image-18\" srcset=\"http://001k.ru/wp-content/uploads/2023/06/IMG-20230628-WA0025.jpg 1600w, http://001k.ru/wp-content/uploads/2023/06/IMG-20230628-WA0025-300x225.jpg 300w, http://001k.ru/wp-content/uploads/2023/06/IMG-20230628-WA0025-1024x768.jpg 1024w, http://001k.ru/wp-content/uploads/2023/06/IMG-20230628-WA0025-768x576.jpg 768w, http://001k.ru/wp-content/uploads/2023/06/IMG-20230628-WA0025-1536x1152.jpg 1536w, http://001k.ru/wp-content/uploads/2023/06/IMG-20230628-WA0025-1200x900.jpg 1200w\" sizes=\"(max-width: 1600px) 100vw, 1600px\" /><figcaption>Колотый серый кирпич</figcaption></figure>\\n\\n\\n\\n<figure class=\"wp-block-image size-large\"><img loading=\"lazy\" width=\"1200\" height=\"1600\" data-id=\"17\" src=\"http://001k.ru/wp-content/uploads/2023/06/IMG-20230628-WA0024.jpg\" alt=\"\" class=\"wp-image-17\" srcset=\"http://001k.ru/wp-content/uploads/2023/06/IMG-20230628-WA0024.jpg 1200w, http://001k.ru/wp-content/uploads/2023/06/IMG-20230628-WA0024-225x300.jpg 225w, http://001k.ru/wp-content/uploads/2023/06/IMG-20230628-WA0024-768x1024.jpg 768w, http://001k.ru/wp-content/uploads/2023/06/IMG-20230628-WA0024-1152x1536.jpg 1152w\" sizes=\"(max-width: 1200px) 100vw, 1200px\" /><figcaption>Забор из облицовочного кирпича</figcaption></figure>\\n\\n\\n\\n<figure class=\"wp-block-image size-large\"><img loading=\"lazy\" width=\"1600\" height=\"1200\" data-id=\"16\" src=\"http://001k.ru/wp-content/uploads/2023/06/IMG-20230628-WA0023.jpg\" alt=\"\" class=\"wp-image-16\" srcset=\"http://001k.ru/wp-content/uploads/2023/06/IMG-20230628-WA0023.jpg 1600w, http://001k.ru/wp-content/uploads/2023/06/IMG-20230628-WA0023-300x225.jpg 300w, http://001k.ru/wp-content/uploads/2023/06/IMG-20230628-WA0023-1024x768.jpg 1024w, http://001k.ru/wp-content/uploads/2023/06/IMG-20230628-WA0023-768x576.jpg 768w, http://001k.ru/wp-content/uploads/2023/06/IMG-20230628-WA0023-1536x1152.jpg 1536w, http://001k.ru/wp-content/uploads/2023/06/IMG-20230628-WA0023-1200x900.jpg 1200w\" sizes=\"(max-width: 1600px) 100vw, 1600px\" /><figcaption>Рваный кирпич </figcaption></figure>\\n\\n\\n\\n<figure class=\"wp-block-image size-large\"><img loading=\"lazy\" width=\"1600\" height=\"1200\" data-id=\"14\" src=\"http://001k.ru/wp-content/uploads/2023/06/IMG-20230628-WA0021.jpg\" alt=\"\" class=\"wp-image-14\" srcset=\"http://001k.ru/wp-content/uploads/2023/06/IMG-20230628-WA0021.jpg 1600w, http://001k.ru/wp-content/uploads/2023/06/IMG-20230628-WA0021-300x225.jpg 300w, http://001k.ru/wp-content/uploads/2023/06/IMG-20230628-WA0021-1024x768.jpg 1024w, http://001k.ru/wp-content/uploads/2023/06/IMG-20230628-WA0021-768x576.jpg 768w, http://001k.ru/wp-content/uploads/2023/06/IMG-20230628-WA0021-1536x1152.jpg 1536w, http://001k.ru/wp-content/uploads/2023/06/IMG-20230628-WA0021-1200x900.jpg 1200w\" sizes=\"(max-width: 1600px) 100vw, 1600px\" /><figcaption>Забор желтый кирпич</figcaption></figure>\\n\\n\\n\\n<figure class=\"wp-block-image size-large\"><img loading=\"lazy\" width=\"1600\" height=\"1200\" data-id=\"15\" src=\"http://001k.ru/wp-content/uploads/2023/06/IMG-20230628-WA0022.jpg\" alt=\"\" class=\"wp-image-15\" srcset=\"http://001k.ru/wp-content/uploads/2023/06/IMG-20230628-WA0022.jpg 1600w, http://001k.ru/wp-content/uploads/2023/06/IMG-20230628-WA0022-300x225.jpg 300w, http://001k.ru/wp-content/uploads/2023/06/IMG-20230628-WA0022-1024x768.jpg 1024w, http://001k.ru/wp-content/uploads/2023/06/IMG-20230628-WA0022-768x576.jpg 768w, http://001k.ru/wp-content/uploads/2023/06/IMG-20230628-WA0022-1536x1152.jpg 1536w, http://001k.ru/wp-content/uploads/2023/06/IMG-20230628-WA0022-1200x900.jpg 1200w\" sizes=\"(max-width: 1600px) 100vw, 1600px\" /></figure>\\n\\n\\n\\n<figure class=\"wp-block-image size-large\"><img loading=\"lazy\" width=\"1600\" height=\"1200\" data-id=\"13\" src=\"http://001k.ru/wp-content/uploads/2023/06/IMG-20230628-WA0020.jpg\" alt=\"\" class=\"wp-image-13\" srcset=\"http://001k.ru/wp-content/uploads/2023/06/IMG-20230628-WA0020.jpg 1600w, http://001k.ru/wp-content/uploads/2023/06/IMG-20230628-WA0020-300x225.jpg 300w, http://001k.ru/wp-content/uploads/2023/06/IMG-20230628-WA0020-1024x768.jpg 1024w, http://001k.ru/wp-content/uploads/2023/06/IMG-20230628-WA0020-768x576.jpg 768w, http://001k.ru/wp-content/uploads/2023/06/IMG-20230628-WA0020-1536x1152.jpg 1536w, http://001k.ru/wp-content/uploads/2023/06/IMG-20230628-WA0020-1200x900.jpg 1200w\" sizes=\"(max-width: 1600px) 100vw, 1600px\" /></figure>\\n\\n\\n\\n<figure class=\"wp-block-image size-large\"><img loading=\"lazy\" width=\"1600\" height=\"1200\" data-id=\"12\" src=\"http://001k.ru/wp-content/uploads/2023/06/IMG-20230628-WA0019.jpg\" alt=\"\" class=\"wp-image-12\" srcset=\"http://001k.ru/wp-content/uploads/2023/06/IMG-20230628-WA0019.jpg 1600w, http://001k.ru/wp-content/uploads/2023/06/IMG-20230628-WA0019-300x225.jpg 300w, http://001k.ru/wp-content/uploads/2023/06/IMG-20230628-WA0019-1024x768.jpg 1024w, http://001k.ru/wp-content/uploads/2023/06/IMG-20230628-WA0019-768x576.jpg 768w, http://001k.ru/wp-content/uploads/2023/06/IMG-20230628-WA0019-1536x1152.jpg 1536w, http://001k.ru/wp-content/uploads/2023/06/IMG-20230628-WA0019-1200x900.jpg 1200w\" sizes=\"(max-width: 1600px) 100vw, 1600px\" /></figure>\\n\\n\\n\\n<figure class=\"wp-block-image size-large\"><img loading=\"lazy\" width=\"1200\" height=\"1600\" data-id=\"11\" src=\"http://001k.ru/wp-content/uploads/2023/06/IMG-20230628-WA0018.jpg\" alt=\"\" class=\"wp-image-11\" srcset=\"http://001k.ru/wp-content/uploads/2023/06/IMG-20230628-WA0018.jpg 1200w, http://001k.ru/wp-content/uploads/2023/06/IMG-20230628-WA0018-225x300.jpg 225w, http://001k.ru/wp-content/uploads/2023/06/IMG-20230628-WA0018-768x1024.jpg 768w, http://001k.ru/wp-content/uploads/2023/06/IMG-20230628-WA0018-1152x1536.jpg 1152w\" sizes=\"(max-width: 1200px) 100vw, 1200px\" /></figure>\\n\\n\\n\\n<figure class=\"wp-block-image size-large\"><img loading=\"lazy\" width=\"1600\" height=\"1200\" data-id=\"10\" src=\"http://001k.ru/wp-content/uploads/2023/06/IMG-20230628-WA0017.jpg\" alt=\"\" class=\"wp-image-10\" srcset=\"http://001k.ru/wp-content/uploads/2023/06/IMG-20230628-WA0017.jpg 1600w, http://001k.ru/wp-content/uploads/2023/06/IMG-20230628-WA0017-300x225.jpg 300w, http://001k.ru/wp-content/uploads/2023/06/IMG-20230628-WA0017-1024x768.jpg 1024w, http://001k.ru/wp-content/uploads/2023/06/IMG-20230628-WA0017-768x576.jpg 768w, http://001k.ru/wp-content/uploads/2023/06/IMG-20230628-WA0017-1536x1152.jpg 1536w, http://001k.ru/wp-content/uploads/2023/06/IMG-20230628-WA0017-1200x900.jpg 1200w\" sizes=\"(max-width: 1600px) 100vw, 1600px\" /></figure>\\n\\n\\n\\n<figure class=\"wp-block-image size-large\"><img loading=\"lazy\" width=\"1200\" height=\"1600\" data-id=\"9\" src=\"http://001k.ru/wp-content/uploads/2023/06/IMG-20230628-WA0015.jpg\" alt=\"\" class=\"wp-image-9\" srcset=\"http://001k.ru/wp-content/uploads/2023/06/IMG-20230628-WA0015.jpg 1200w, http://001k.ru/wp-content/uploads/2023/06/IMG-20230628-WA0015-225x300.jpg 225w, http://001k.ru/wp-content/uploads/2023/06/IMG-20230628-WA0015-768x1024.jpg 768w, http://001k.ru/wp-content/uploads/2023/06/IMG-20230628-WA0015-1152x1536.jpg 1152w\" sizes=\"(max-width: 1200px) 100vw, 1200px\" /><figcaption>Беспигментный облицовочный кирпич</figcaption></figure>\\n\\n\\n\\n<figure class=\"wp-block-image size-large\"><img loading=\"lazy\" width=\"1200\" height=\"1600\" data-id=\"8\" src=\"http://001k.ru/wp-content/uploads/2023/06/IMG-20230628-WA0014.jpg\" alt=\"\" class=\"wp-image-8\" srcset=\"http://001k.ru/wp-content/uploads/2023/06/IMG-20230628-WA0014.jpg 1200w, http://001k.ru/wp-content/uploads/2023/06/IMG-20230628-WA0014-225x300.jpg 225w, http://001k.ru/wp-content/uploads/2023/06/IMG-20230628-WA0014-768x1024.jpg 768w, http://001k.ru/wp-content/uploads/2023/06/IMG-20230628-WA0014-1152x1536.jpg 1152w\" sizes=\"(max-width: 1200px) 100vw, 1200px\" /></figure>\\n\\n\\n\\n<figure class=\"wp-block-image size-large\"><img loading=\"lazy\" width=\"1200\" height=\"1600\" data-id=\"7\" src=\"http://001k.ru/wp-content/uploads/2023/06/IMG-20230628-WA0013.jpg\" alt=\"\" class=\"wp-image-7\" srcset=\"http://001k.ru/wp-content/uploads/2023/06/IMG-20230628-WA0013.jpg 1200w, http://001k.ru/wp-content/uploads/2023/06/IMG-20230628-WA0013-225x300.jpg 225w, http://001k.ru/wp-content/uploads/2023/06/IMG-20230628-WA0013-768x1024.jpg 768w, http://001k.ru/wp-content/uploads/2023/06/IMG-20230628-WA0013-1152x1536.jpg 1152w\" sizes=\"(max-width: 1200px) 100vw, 1200px\" /></figure>\\n\\n\\n\\n<figure class=\"wp-block-image size-large\"><img loading=\"lazy\" width=\"1200\" height=\"1600\" data-id=\"5\" src=\"http://001k.ru/wp-content/uploads/2023/06/IMG-20230628-WA0011.jpg\" alt=\"\" class=\"wp-image-5\" srcset=\"http://001k.ru/wp-content/uploads/2023/06/IMG-20230628-WA0011.jpg 1200w, http://001k.ru/wp-content/uploads/2023/06/IMG-20230628-WA0011-225x300.jpg 225w, http://001k.ru/wp-content/uploads/2023/06/IMG-20230628-WA0011-768x1024.jpg 768w, http://001k.ru/wp-content/uploads/2023/06/IMG-20230628-WA0011-1152x1536.jpg 1152w\" sizes=\"(max-width: 1200px) 100vw, 1200px\" /></figure>\\n\\n\\n\\n<figure class=\"wp-block-image size-large\"><img loading=\"lazy\" width=\"1600\" height=\"1200\" data-id=\"6\" src=\"http://001k.ru/wp-content/uploads/2023/06/IMG-20230628-WA0012.jpg\" alt=\"\" class=\"wp-image-6\" srcset=\"http://001k.ru/wp-content/uploads/2023/06/IMG-20230628-WA0012.jpg 1600w, http://001k.ru/wp-content/uploads/2023/06/IMG-20230628-WA0012-300x225.jpg 300w, http://001k.ru/wp-content/uploads/2023/06/IMG-20230628-WA0012-1024x768.jpg 1024w, http://001k.ru/wp-content/uploads/2023/06/IMG-20230628-WA0012-768x576.jpg 768w, http://001k.ru/wp-content/uploads/2023/06/IMG-20230628-WA0012-1536x1152.jpg 1536w, http://001k.ru/wp-content/uploads/2023/06/IMG-20230628-WA0012-1200x900.jpg 1200w\" sizes=\"(max-width: 1600px) 100vw, 1600px\" /></figure>\\n\\n\\n\\n<figure class=\"wp-block-image size-large\"><img loading=\"lazy\" width=\"1200\" height=\"1600\" data-id=\"4\" src=\"http://001k.ru/wp-content/uploads/2023/06/IMG-20230628-WA0010.jpg\" alt=\"\" class=\"wp-image-4\" srcset=\"http://001k.ru/wp-content/uploads/2023/06/IMG-20230628-WA0010.jpg 1200w, http://001k.ru/wp-content/uploads/2023/06/IMG-20230628-WA0010-225x300.jpg 225w, http://001k.ru/wp-content/uploads/2023/06/IMG-20230628-WA0010-768x1024.jpg 768w, http://001k.ru/wp-content/uploads/2023/06/IMG-20230628-WA0010-1152x1536.jpg 1152w\" sizes=\"(max-width: 1200px) 100vw, 1200px\" /></figure>\\n</figure>\\n\\n\\n\\n<p></p>\\n\\n\\n\\n<p>Схема проезда</p>\\n\\n\\n\\n<iframe src=\"https://yandex.ru/map-widget/v1/?lang=ru_RU&amp;scroll=true&amp;um=constructor%3A06cd3379542841bc5fe245ac16e4dbd50cfc9af19122c5acd69105950da822e4\" frameborder=\"0\" allowfullscreen=\"true\" width=\"828px\" height=\"635px\" style=\"display: block;\"></iframe>\\n\\t</div><!-- .entry-content -->\\n\\n\\t<footer class=\"entry-footer\">\\n\\t\\t\\t</footer><!-- .entry-footer -->\\n</article><!-- #post-## -->\\n\\t\\t\\t\\t</main><!-- #main -->\\n\\t\\t\\t</div><!-- #primary -->\\n\\n\\t\\t\\t\\n\\t\\t</div><!--#content-inside -->\\n\\t</div><!-- #content -->\\n\\n\\t<footer id=\"colophon\" class=\"site-footer\" role=\"contentinfo\">\\n\\t\\t\\n        \\t<div class=\" site-info\">\\n\\t\\t<div class=\"container\">\\n\\t\\t\\t<div class=\"site-copyright\">\\n\\t\\t\\t\\tАвторское право © 2023 Кирпичный завод №1. Все права защищены.\\t\\t\\t</div><!-- .site-copyright -->\\n\\t\\t\\t<div class=\"theme-info\">\\n\\t\\t\\t\\t<a href=\"https://www.famethemes.com/themes/screenr\">Screenr parallax theme</a> от FameThemes\\t\\t\\t</div>\\n\\t\\t</div>\\n\\t</div><!-- .site-info -->\\n\\t\\n\\t</footer><!-- #colophon -->\\n</div><!-- #page -->\\n\\n<script type=\"text/javascript\" src=\"http://001k.ru/wp-content/plugins/contact-form-7/includes/swv/js/index.js?ver=5.7.7\" id=\"swv-js\"></script>\\n<script type=\"text/javascript\" id=\"contact-form-7-js-extra\">\\n/* &lt;![CDATA[ */\\nvar wpcf7 = {\"api\":{\"root\":\"http:\\\\/\\\\/001k.ru\\\\/wp-json\\\\/\",\"namespace\":\"contact-form-7\\\\/v1\"}};\\n/* ]]&gt; */\\n</script>\\n<script type=\"text/javascript\" src=\"http://001k.ru/wp-content/plugins/contact-form-7/includes/js/index.js?ver=5.7.7\" id=\"contact-form-7-js\"></script>\\n<script type=\"text/javascript\" src=\"http://001k.ru/wp-content/themes/screenr/assets/js/plugins.js?ver=4.0.0\" id=\"screenr-plugin-js\"></script>\\n<script type=\"text/javascript\" src=\"http://001k.ru/wp-content/themes/screenr/assets/js/bootstrap.bundle.min.js?ver=4.0.0\" id=\"bootstrap-js\"></script>\\n<script type=\"text/javascript\" id=\"screenr-theme-js-extra\">\\n/* &lt;![CDATA[ */\\nvar Screenr = {\"ajax_url\":\"http:\\\\/\\\\/001k.ru\\\\/wp-admin\\\\/admin-ajax.php\",\"full_screen_slider\":\"\",\"header_layout\":\"\",\"slider_parallax\":\"1\",\"is_home_front_page\":\"0\",\"autoplay\":\"7000\",\"speed\":\"700\",\"effect\":\"slide\",\"gallery_enable\":\"1\"};\\n/* ]]&gt; */\\n</script>\\n<script type=\"text/javascript\" src=\"http://001k.ru/wp-content/themes/screenr/assets/js/theme.js?ver=20120206\" id=\"screenr-theme-js\"></script>\\n\\n\\n\\n</body></html>'"
      ]
     },
     "execution_count": 20,
     "metadata": {},
     "output_type": "execute_result"
    }
   ],
   "source": [
    "df.iloc[2][1]"
   ]
  },
  {
   "cell_type": "code",
   "execution_count": null,
   "metadata": {},
   "outputs": [],
   "source": [
    "import pandas as pd\n",
    "import spacy\n",
    "from transformers import AutoTokenizer, AutoModelForCausalLM\n",
    "import torch\n",
    "\n",
    "# Загрузка модели для предобработки текста\n",
    "nlp = spacy.load(\"ru_core_news_sm\")\n",
    "\n",
    "def enhanced_preprocessing(text):\n",
    "    \"\"\"Улучшенная предобработка текста с сохранением контактной информации\"\"\"\n",
    "    doc = nlp(text)\n",
    "    \n",
    "    processed = []\n",
    "    for token in doc:\n",
    "        # Сохраняем числа и слова с цифрами (для телефонов)\n",
    "        if token.like_num or any(c.isdigit() for c in token.text):\n",
    "            processed.append(token.text)\n",
    "            continue\n",
    "            \n",
    "        # Удаляем стоп-слова и пунктуацию, кроме специальных символов\n",
    "        if not token.is_stop and not token.is_punct:\n",
    "            # Лемматизация для остальных слов\n",
    "            processed.append(token.lemma_.lower())\n",
    "    \n",
    "    return ' '.join(processed)\n",
    "\n",
    "# Инициализация Gemma\n",
    "model_name = \"google/gemma-1.1-2b-it\"\n",
    "tokenizer = AutoTokenizer.from_pretrained(model_name)\n",
    "model = AutoModelForCausalLM.from_pretrained(\n",
    "    model_name,\n",
    "    device_map=\"auto\",\n",
    "    torch_dtype=torch.bfloat16\n",
    ")\n",
    "\n",
    "def extract_contacts(text):\n",
    "    \"\"\"Извлечение контактных данных с помощью Gemma\"\"\"\n",
    "    prompt = f\"\"\"Проанализируй текст и извлеки контактную информацию. Ответь в формате JSON:\n",
    "    {{\n",
    "        \"phones\": [],\n",
    "        \"emails\": [],\n",
    "        \"addresses\": [],\n",
    "        \"social_media\": [],\n",
    "        \"websites\": []\n",
    "    }}\n",
    "    \n",
    "    Текст для анализа: {text[:3000]}  # Ограничение контекста\n",
    "    \"\"\"\n",
    "    \n",
    "    inputs = tokenizer(prompt, return_tensors=\"pt\").to(model.device)\n",
    "    outputs = model.generate(**inputs, max_new_tokens=500)\n",
    "    response = tokenizer.decode(outputs[0], skip_special_tokens=True)\n",
    "    \n",
    "    return parse_response(response)\n",
    "\n",
    "def parse_response(response):\n",
    "    \"\"\"Парсинг ответа модели\"\"\"\n",
    "    try:\n",
    "        # Ищем JSON в ответе\n",
    "        start = response.find('{')\n",
    "        end = response.rfind('}') + 1\n",
    "        return eval(response[start:end])\n",
    "    except:\n",
    "        return {\n",
    "            \"phones\": [], \n",
    "            \"emails\": [], \n",
    "            \"addresses\": [],\n",
    "            \"social_media\": [],\n",
    "            \"websites\": []\n",
    "        }\n",
    "\n",
    "# Применение обработки\n",
    "df_with_header['processed_text'] = df_with_header.iloc[:, 1].progress_apply(enhanced_preprocessing)\n",
    "df_with_header['contacts'] = df_with_header['processed_text'].progress_apply(extract_contacts)\n",
    "\n",
    "# Разбивка результатов на отдельные колонки\n",
    "contact_cols = ['phones', 'emails', 'addresses', 'social_media', 'websites']\n",
    "for col in contact_cols:\n",
    "    df_with_header[col] = df_with_header['contacts'].apply(lambda x: x.get(col, []))"
   ]
  }
 ],
 "metadata": {
  "kernelspec": {
   "display_name": "Python 3",
   "language": "python",
   "name": "python3"
  },
  "language_info": {
   "codemirror_mode": {
    "name": "ipython",
    "version": 3
   },
   "file_extension": ".py",
   "mimetype": "text/x-python",
   "name": "python",
   "nbconvert_exporter": "python",
   "pygments_lexer": "ipython3",
   "version": "3.10.0"
  }
 },
 "nbformat": 4,
 "nbformat_minor": 2
}
