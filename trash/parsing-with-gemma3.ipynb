{
 "cells": [
  {
   "cell_type": "code",
   "execution_count": 8,
   "metadata": {
    "execution": {
     "iopub.execute_input": "2025-03-31T19:53:14.760797Z",
     "iopub.status.busy": "2025-03-31T19:53:14.760501Z",
     "iopub.status.idle": "2025-03-31T19:53:18.439828Z",
     "shell.execute_reply": "2025-03-31T19:53:18.438946Z",
     "shell.execute_reply.started": "2025-03-31T19:53:14.760773Z"
    },
    "trusted": true
   },
   "outputs": [
    {
     "name": "stdout",
     "output_type": "stream",
     "text": [
      "Requirement already satisfied: pandarallel in /usr/local/lib/python3.10/dist-packages (1.6.5)\n",
      "Requirement already satisfied: dill>=0.3.1 in /usr/local/lib/python3.10/dist-packages (from pandarallel) (0.3.8)\n",
      "Requirement already satisfied: pandas>=1 in /usr/local/lib/python3.10/dist-packages (from pandarallel) (2.2.3)\n",
      "Requirement already satisfied: psutil in /usr/local/lib/python3.10/dist-packages (from pandarallel) (5.9.5)\n",
      "Requirement already satisfied: numpy>=1.22.4 in /usr/local/lib/python3.10/dist-packages (from pandas>=1->pandarallel) (1.26.4)\n",
      "Requirement already satisfied: python-dateutil>=2.8.2 in /usr/local/lib/python3.10/dist-packages (from pandas>=1->pandarallel) (2.9.0.post0)\n",
      "Requirement already satisfied: pytz>=2020.1 in /usr/local/lib/python3.10/dist-packages (from pandas>=1->pandarallel) (2025.1)\n",
      "Requirement already satisfied: tzdata>=2022.7 in /usr/local/lib/python3.10/dist-packages (from pandas>=1->pandarallel) (2025.1)\n",
      "Requirement already satisfied: mkl_fft in /usr/local/lib/python3.10/dist-packages (from numpy>=1.22.4->pandas>=1->pandarallel) (1.3.8)\n",
      "Requirement already satisfied: mkl_random in /usr/local/lib/python3.10/dist-packages (from numpy>=1.22.4->pandas>=1->pandarallel) (1.2.4)\n",
      "Requirement already satisfied: mkl_umath in /usr/local/lib/python3.10/dist-packages (from numpy>=1.22.4->pandas>=1->pandarallel) (0.1.1)\n",
      "Requirement already satisfied: mkl in /usr/local/lib/python3.10/dist-packages (from numpy>=1.22.4->pandas>=1->pandarallel) (2025.0.1)\n",
      "Requirement already satisfied: tbb4py in /usr/local/lib/python3.10/dist-packages (from numpy>=1.22.4->pandas>=1->pandarallel) (2022.0.0)\n",
      "Requirement already satisfied: mkl-service in /usr/local/lib/python3.10/dist-packages (from numpy>=1.22.4->pandas>=1->pandarallel) (2.4.1)\n",
      "Requirement already satisfied: six>=1.5 in /usr/local/lib/python3.10/dist-packages (from python-dateutil>=2.8.2->pandas>=1->pandarallel) (1.17.0)\n",
      "Requirement already satisfied: intel-openmp>=2024 in /usr/local/lib/python3.10/dist-packages (from mkl->numpy>=1.22.4->pandas>=1->pandarallel) (2024.2.0)\n",
      "Requirement already satisfied: tbb==2022.* in /usr/local/lib/python3.10/dist-packages (from mkl->numpy>=1.22.4->pandas>=1->pandarallel) (2022.0.0)\n",
      "Requirement already satisfied: tcmlib==1.* in /usr/local/lib/python3.10/dist-packages (from tbb==2022.*->mkl->numpy>=1.22.4->pandas>=1->pandarallel) (1.2.0)\n",
      "Requirement already satisfied: intel-cmplr-lib-rt in /usr/local/lib/python3.10/dist-packages (from mkl_umath->numpy>=1.22.4->pandas>=1->pandarallel) (2024.2.0)\n",
      "Requirement already satisfied: intel-cmplr-lib-ur==2024.2.0 in /usr/local/lib/python3.10/dist-packages (from intel-openmp>=2024->mkl->numpy>=1.22.4->pandas>=1->pandarallel) (2024.2.0)\n"
     ]
    }
   ],
   "source": [
    "!pip install accelerate\n",
    "!pip install --upgrade numpy scipy seaborn\n",
    "!pip install --upgrade torch torchvision"
   ]
  },
  {
   "cell_type": "code",
   "execution_count": 10,
   "metadata": {
    "_cell_guid": "b1076dfc-b9ad-4769-8c92-a6c4dae69d19",
    "_uuid": "8f2839f25d086af736a60e9eeb907d3b93b6e0e5",
    "execution": {
     "iopub.execute_input": "2025-03-31T19:53:26.753228Z",
     "iopub.status.busy": "2025-03-31T19:53:26.752894Z",
     "iopub.status.idle": "2025-03-31T19:53:26.762323Z",
     "shell.execute_reply": "2025-03-31T19:53:26.761642Z",
     "shell.execute_reply.started": "2025-03-31T19:53:26.753190Z"
    },
    "trusted": true
   },
   "outputs": [
    {
     "name": "stdout",
     "output_type": "stream",
     "text": [
      "INFO: Pandarallel will run on 4 workers.\n",
      "INFO: Pandarallel will use Memory file system to transfer data between the main process and workers.\n"
     ]
    }
   ],
   "source": [
    "import pandas as pd\n",
    "from tqdm import tqdm\n",
    "import matplotlib.pyplot as plt\n",
    "import seaborn as sns\n",
    "from transformers import AutoProcessor, AutoModelForImageTextToText, BitsAndBytesConfig\n",
    "import torch\n",
    "from huggingface_hub import login\n",
    "from bs4 import BeautifulSoup\n",
    "import re\n",
    "from pandarallel import pandarallel\n",
    "import logging\n",
    "\n",
    "\n",
    "pandarallel.initialize(nb_workers=4)\n",
    "%matplotlib inline\n",
    "tqdm.pandas()\n",
    "logging.basicConfig(filename='extraction.log', level=logging.INFO)"
   ]
  },
  {
   "cell_type": "code",
   "execution_count": 11,
   "metadata": {
    "execution": {
     "iopub.execute_input": "2025-03-31T19:53:26.763708Z",
     "iopub.status.busy": "2025-03-31T19:53:26.763493Z",
     "iopub.status.idle": "2025-03-31T19:53:34.912390Z",
     "shell.execute_reply": "2025-03-31T19:53:34.911732Z",
     "shell.execute_reply.started": "2025-03-31T19:53:26.763686Z"
    },
    "trusted": true
   },
   "outputs": [
    {
     "name": "stdout",
     "output_type": "stream",
     "text": [
      "Введите HF token:  ········\n"
     ]
    }
   ],
   "source": [
    "from getpass import getpass\n",
    "from huggingface_hub import login\n",
    "\n",
    "token = getpass(\"Введите HF token: \")\n",
    "login(token=token)"
   ]
  },
  {
   "cell_type": "code",
   "execution_count": 12,
   "metadata": {
    "execution": {
     "iopub.execute_input": "2025-03-31T19:53:34.913307Z",
     "iopub.status.busy": "2025-03-31T19:53:34.913109Z",
     "iopub.status.idle": "2025-03-31T19:53:34.922471Z",
     "shell.execute_reply": "2025-03-31T19:53:34.921687Z",
     "shell.execute_reply.started": "2025-03-31T19:53:34.913289Z"
    },
    "trusted": true
   },
   "outputs": [],
   "source": [
    "class ContactExtractorGPU:\n",
    "    def __init__(self):\n",
    "        # Конфиг для 8-битного квантования (чтобы хотя бы в kaggle запустить)\n",
    "        bnb_config = BitsAndBytesConfig(\n",
    "            load_in_4bit=True,\n",
    "            bnb_4bit_compute_dtype=torch.bfloat16,\n",
    "            bnb_4bit_quant_type=\"nf4\"\n",
    "        )\n",
    "\n",
    "        \n",
    "        self.processor = AutoProcessor.from_pretrained(\"google/gemma-3-27b-it\")\n",
    "        self.model = AutoModelForImageTextToText.from_pretrained(\n",
    "            \"google/gemma-3-27b-it\",\n",
    "            quantization_config=bnb_config,\n",
    "            device_map=\"auto\"\n",
    "        )\n",
    "        print(f\"Модель загружена на: {next(self.model.parameters()).device}\")\n",
    "        print(f\"Используется память: {self.model.get_memory_footprint()/1e9:.1f} GB\")\n",
    "        \n",
    "        self.prompt_template = \"\"\"Извлеки ВСЕ контактные данные из текста, включая:\n",
    "        1. Телефоны (в любом формате: +7, 8, международные)\n",
    "        2. Email-адреса (учти регистр)\n",
    "        3. Физические адреса (с индексом, городом, улицей)\n",
    "        4. Ссылки на соцсети (VK, Telegram, WhatsApp)\n",
    "        5. Ссылки на карты (Яндекс/Google Maps)\n",
    "        6. Другие контакты (Skype, ICQ)\n",
    "        \n",
    "        **Требования:**\n",
    "        - Верни ТОЛЬКО валидные данные\n",
    "        - Нормализуй телефоны в формат +7XXXXXXXXXX\n",
    "        - Разделяй адреса на компоненты (город → улица → дом)\n",
    "        - Игнорируй дубликаты\n",
    "        \n",
    "        Формат ответа (строго JSON):\n",
    "        ```json\n",
    "        {{\n",
    "            \"phones\": [\"+79528190301\", ...],\n",
    "            \"emails\": [\"contact@example.com\", ...],\n",
    "            \"addresses\": [\"Москва, ул. Пушкина 15\", ...],\n",
    "            \"social_links\": [\"https://t.me/username\", ...],\n",
    "            \"map_links\": [\"https://yandex.ru/maps/org/123\", ...],\n",
    "            \"other_contacts\": {\"skype\": \"login\", \"icq\": \"123456\"}\n",
    "        }}\n",
    "        ```\n",
    "        \"\"\"\n",
    "\n",
    "    def preprocess_html(self, html):\n",
    "        \"\"\"Очистка HTML и извлечение текста\"\"\"\n",
    "        soup = BeautifulSoup(html, 'html.parser')\n",
    "        for tag in [\"script\", \"style\", \"meta\", \"head\", \"svg\"]:\n",
    "            [t.decompose() for t in soup.find_all(tag)]\n",
    "        return soup.get_text(\"\\n\", strip=True)\n",
    "\n",
    "    def generate(self, text, max_length=3000):\n",
    "        \"\"\"Генерация ответа с ограничением длины\"\"\"\n",
    "        try:\n",
    "            inputs = self.processor(\n",
    "                self.prompt_template.format(text=text[:max_length]),\n",
    "                return_tensors=\"pt\",\n",
    "                truncation=True\n",
    "            ).to(device)\n",
    "            \n",
    "            with torch.no_grad():\n",
    "                outputs = self.model.generate(\n",
    "                    **inputs,\n",
    "                    max_new_tokens=500,\n",
    "                    do_sample=True,\n",
    "                    temperature=0.3\n",
    "                )\n",
    "            return self.processor.decode(outputs[0], skip_special_tokens=True)\n",
    "        except Exception as e:\n",
    "            print(f\"Ошибка генерации: {str(e)}\")\n",
    "            return \"{}\"\n",
    "\n",
    "    def parse_response(self, response):\n",
    "        \"\"\"Парсинг ответа модели(json'a) с резервными регулярками\"\"\"\n",
    "        try:\n",
    "            result = json.loads(response.split(\"```json\")[-1].split(\"```\")[0].strip())\n",
    "        except:\n",
    "            result = {\n",
    "                \"phones\": re.findall(r'(\\+7[\\s\\-()]*\\d{3}[\\s\\-()]*\\d{3}[\\s\\-()]*\\d{2}[\\s\\-()]*\\d{2})', response),\n",
    "                \"emails\": re.findall(r'[\\w\\.-]+@[\\w\\.-]+\\.\\w+', response),\n",
    "                \"addresses\": re.findall(r'([А-ЯЁ][а-яё]+\\s*,\\s*[А-ЯЁ][а-яё]+\\s*,\\s*\\d+)', response),\n",
    "                \"social_links\": re.findall(r'(https?://(?:t\\.me|vk\\.com|facebook\\.com)/[^\\s]+', response),\n",
    "                \"map_links\": re.findall(r'(https?://(?:yandex\\.ru/maps|google\\.com/maps)/[^\\s]+', response)\n",
    "            }\n",
    "        return result\n",
    "\n",
    "    def process(self, html):\n",
    "        \"\"\"Полный пайплайн обработки\"\"\"\n",
    "        text = self.preprocess_html(html)\n",
    "        response = self.generate(text)\n",
    "        return self.parse_response(response)"
   ]
  },
  {
   "cell_type": "code",
   "execution_count": 13,
   "metadata": {
    "execution": {
     "iopub.execute_input": "2025-03-31T19:53:34.923761Z",
     "iopub.status.busy": "2025-03-31T19:53:34.923520Z",
     "iopub.status.idle": "2025-03-31T19:53:34.943866Z",
     "shell.execute_reply": "2025-03-31T19:53:34.943017Z",
     "shell.execute_reply.started": "2025-03-31T19:53:34.923741Z"
    },
    "trusted": true
   },
   "outputs": [],
   "source": [
    "def process_dataframe(input_csv, output_csv):\n",
    "    # Загрузка данных\n",
    "    df = pd.read_csv(input_csv)\n",
    "    df_with_header = pd.concat([pd.DataFrame([df.columns], columns=df.columns), df]).reset_index(drop=True)\n",
    "    df_with_header.columns = range(len(df.columns))\n",
    "    \n",
    "    # Инициализация экстрактора\n",
    "    extractor = ContactExtractorGPU()\n",
    "    # Функция для обработки строки\n",
    "    def process_row(row):\n",
    "        try:\n",
    "            contacts = extractor.process(row[1])\n",
    "            logging.info(f\"Обработана строка {row.name}\")\n",
    "            return pd.Series({\n",
    "                'extracted_phones': \"; \".join(contacts.get('phones', [])),\n",
    "                'extracted_emails': \"; \".join(contacts.get('emails', [])),\n",
    "                'extracted_addresses': \"; \".join(contacts.get('addresses', [])),\n",
    "                'extracted_social_links': \"; \".join(contacts.get('social_links', [])),\n",
    "                'extracted_map_links': \"; \".join(contacts.get('map_links', []))\n",
    "            })\n",
    "        except Exception as e:\n",
    "            print(f\"Ошибка в строке {row.name}: {str(e)}\")\n",
    "            return pd.Series({f'extracted_{k}': None for k in ['phones', 'emails', 'addresses', 'social_links', 'map_links']})\n",
    "    \n",
    "    # Применение к DataFrame\n",
    "    print(\"Начало обработки...\")\n",
    "    result_df = df_with_header.parallel_apply(process_row, axis=1)\n",
    "    final_df = pd.concat([df_with_header, result_df], axis=1)\n",
    "    \n",
    "    # Сохранение\n",
    "    final_df.to_csv(output_csv, index=False)\n",
    "    print(f\"Результат сохранён в {output_csv}\")\n",
    "    return final_df"
   ]
  },
  {
   "cell_type": "code",
   "execution_count": 16,
   "metadata": {
    "execution": {
     "iopub.execute_input": "2025-03-31T19:55:58.202923Z",
     "iopub.status.busy": "2025-03-31T19:55:58.202588Z",
     "iopub.status.idle": "2025-03-31T19:56:27.707424Z",
     "shell.execute_reply": "2025-03-31T19:56:27.706087Z",
     "shell.execute_reply.started": "2025-03-31T19:55:58.202894Z"
    },
    "trusted": true
   },
   "outputs": [
    {
     "data": {
      "application/vnd.jupyter.widget-view+json": {
       "model_id": "567c177cea2b452688ef63df4d905ffe",
       "version_major": 2,
       "version_minor": 0
      },
      "text/plain": [
       "processor_config.json:   0%|          | 0.00/70.0 [00:00<?, ?B/s]"
      ]
     },
     "metadata": {},
     "output_type": "display_data"
    },
    {
     "data": {
      "application/vnd.jupyter.widget-view+json": {
       "model_id": "b700f009a9a44205b17246a86351cf66",
       "version_major": 2,
       "version_minor": 0
      },
      "text/plain": [
       "chat_template.json:   0%|          | 0.00/1.61k [00:00<?, ?B/s]"
      ]
     },
     "metadata": {},
     "output_type": "display_data"
    },
    {
     "data": {
      "application/vnd.jupyter.widget-view+json": {
       "model_id": "70f9ebdd350f41ffae2b760e34caeee8",
       "version_major": 2,
       "version_minor": 0
      },
      "text/plain": [
       "tokenizer_config.json:   0%|          | 0.00/1.16M [00:00<?, ?B/s]"
      ]
     },
     "metadata": {},
     "output_type": "display_data"
    },
    {
     "data": {
      "application/vnd.jupyter.widget-view+json": {
       "model_id": "c768730a41c549fca40bb43910f19012",
       "version_major": 2,
       "version_minor": 0
      },
      "text/plain": [
       "tokenizer.model:   0%|          | 0.00/4.69M [00:00<?, ?B/s]"
      ]
     },
     "metadata": {},
     "output_type": "display_data"
    },
    {
     "data": {
      "application/vnd.jupyter.widget-view+json": {
       "model_id": "231f92022c5d461fbf64ee822f5f71a1",
       "version_major": 2,
       "version_minor": 0
      },
      "text/plain": [
       "tokenizer.json:   0%|          | 0.00/33.4M [00:00<?, ?B/s]"
      ]
     },
     "metadata": {},
     "output_type": "display_data"
    },
    {
     "data": {
      "application/vnd.jupyter.widget-view+json": {
       "model_id": "7931f53547b045d286a41fcee5a99226",
       "version_major": 2,
       "version_minor": 0
      },
      "text/plain": [
       "added_tokens.json:   0%|          | 0.00/35.0 [00:00<?, ?B/s]"
      ]
     },
     "metadata": {},
     "output_type": "display_data"
    },
    {
     "data": {
      "application/vnd.jupyter.widget-view+json": {
       "model_id": "b8d91ae883074b57bc6d97543e3864fb",
       "version_major": 2,
       "version_minor": 0
      },
      "text/plain": [
       "special_tokens_map.json:   0%|          | 0.00/662 [00:00<?, ?B/s]"
      ]
     },
     "metadata": {},
     "output_type": "display_data"
    },
    {
     "data": {
      "application/vnd.jupyter.widget-view+json": {
       "model_id": "b33385259e5947438b155e809ef7e522",
       "version_major": 2,
       "version_minor": 0
      },
      "text/plain": [
       "config.json:   0%|          | 0.00/972 [00:00<?, ?B/s]"
      ]
     },
     "metadata": {},
     "output_type": "display_data"
    },
    {
     "ename": "ValueError",
     "evalue": "The checkpoint you are trying to load has model type `gemma3` but Transformers does not recognize this architecture. This could be because of an issue with the checkpoint, or because your version of Transformers is out of date.",
     "output_type": "error",
     "traceback": [
      "\u001b[0;31m---------------------------------------------------------------------------\u001b[0m",
      "\u001b[0;31mKeyError\u001b[0m                                  Traceback (most recent call last)",
      "\u001b[0;32m/usr/local/lib/python3.10/dist-packages/transformers/models/auto/configuration_auto.py\u001b[0m in \u001b[0;36mfrom_pretrained\u001b[0;34m(cls, pretrained_model_name_or_path, **kwargs)\u001b[0m\n\u001b[1;32m   1037\u001b[0m             \u001b[0;32mtry\u001b[0m\u001b[0;34m:\u001b[0m\u001b[0;34m\u001b[0m\u001b[0;34m\u001b[0m\u001b[0m\n\u001b[0;32m-> 1038\u001b[0;31m                 \u001b[0mconfig_class\u001b[0m \u001b[0;34m=\u001b[0m \u001b[0mCONFIG_MAPPING\u001b[0m\u001b[0;34m[\u001b[0m\u001b[0mconfig_dict\u001b[0m\u001b[0;34m[\u001b[0m\u001b[0;34m\"model_type\"\u001b[0m\u001b[0;34m]\u001b[0m\u001b[0;34m]\u001b[0m\u001b[0;34m\u001b[0m\u001b[0;34m\u001b[0m\u001b[0m\n\u001b[0m\u001b[1;32m   1039\u001b[0m             \u001b[0;32mexcept\u001b[0m \u001b[0mKeyError\u001b[0m\u001b[0;34m:\u001b[0m\u001b[0;34m\u001b[0m\u001b[0;34m\u001b[0m\u001b[0m\n",
      "\u001b[0;32m/usr/local/lib/python3.10/dist-packages/transformers/models/auto/configuration_auto.py\u001b[0m in \u001b[0;36m__getitem__\u001b[0;34m(self, key)\u001b[0m\n\u001b[1;32m    739\u001b[0m         \u001b[0;32mif\u001b[0m \u001b[0mkey\u001b[0m \u001b[0;32mnot\u001b[0m \u001b[0;32min\u001b[0m \u001b[0mself\u001b[0m\u001b[0;34m.\u001b[0m\u001b[0m_mapping\u001b[0m\u001b[0;34m:\u001b[0m\u001b[0;34m\u001b[0m\u001b[0;34m\u001b[0m\u001b[0m\n\u001b[0;32m--> 740\u001b[0;31m             \u001b[0;32mraise\u001b[0m \u001b[0mKeyError\u001b[0m\u001b[0;34m(\u001b[0m\u001b[0mkey\u001b[0m\u001b[0;34m)\u001b[0m\u001b[0;34m\u001b[0m\u001b[0;34m\u001b[0m\u001b[0m\n\u001b[0m\u001b[1;32m    741\u001b[0m         \u001b[0mvalue\u001b[0m \u001b[0;34m=\u001b[0m \u001b[0mself\u001b[0m\u001b[0;34m.\u001b[0m\u001b[0m_mapping\u001b[0m\u001b[0;34m[\u001b[0m\u001b[0mkey\u001b[0m\u001b[0;34m]\u001b[0m\u001b[0;34m\u001b[0m\u001b[0;34m\u001b[0m\u001b[0m\n",
      "\u001b[0;31mKeyError\u001b[0m: 'gemma3'",
      "\nDuring handling of the above exception, another exception occurred:\n",
      "\u001b[0;31mValueError\u001b[0m                                Traceback (most recent call last)",
      "\u001b[0;32m<ipython-input-16-ea47c51ddc57>\u001b[0m in \u001b[0;36m<cell line: 1>\u001b[0;34m()\u001b[0m\n\u001b[0;32m----> 1\u001b[0;31m \u001b[0mprocess_dataframe\u001b[0m\u001b[0;34m(\u001b[0m\u001b[0;34m\"/kaggle/input/mts-data/analyzer_analyzer_urls.csv\"\u001b[0m\u001b[0;34m,\u001b[0m \u001b[0;34m\"processed_contacts.csv\"\u001b[0m\u001b[0;34m)\u001b[0m\u001b[0;34m\u001b[0m\u001b[0;34m\u001b[0m\u001b[0m\n\u001b[0m",
      "\u001b[0;32m<ipython-input-13-65c1ed65c5de>\u001b[0m in \u001b[0;36mprocess_dataframe\u001b[0;34m(input_csv, output_csv)\u001b[0m\n\u001b[1;32m      6\u001b[0m \u001b[0;34m\u001b[0m\u001b[0m\n\u001b[1;32m      7\u001b[0m     \u001b[0;31m# Инициализация экстрактора\u001b[0m\u001b[0;34m\u001b[0m\u001b[0;34m\u001b[0m\u001b[0m\n\u001b[0;32m----> 8\u001b[0;31m     \u001b[0mextractor\u001b[0m \u001b[0;34m=\u001b[0m \u001b[0mContactExtractorGPU\u001b[0m\u001b[0;34m(\u001b[0m\u001b[0;34m)\u001b[0m\u001b[0;34m\u001b[0m\u001b[0;34m\u001b[0m\u001b[0m\n\u001b[0m\u001b[1;32m      9\u001b[0m     \u001b[0;31m# Функция для обработки строки\u001b[0m\u001b[0;34m\u001b[0m\u001b[0;34m\u001b[0m\u001b[0m\n\u001b[1;32m     10\u001b[0m     \u001b[0;32mdef\u001b[0m \u001b[0mprocess_row\u001b[0m\u001b[0;34m(\u001b[0m\u001b[0mrow\u001b[0m\u001b[0;34m)\u001b[0m\u001b[0;34m:\u001b[0m\u001b[0;34m\u001b[0m\u001b[0;34m\u001b[0m\u001b[0m\n",
      "\u001b[0;32m<ipython-input-12-d6c65a30356b>\u001b[0m in \u001b[0;36m__init__\u001b[0;34m(self)\u001b[0m\n\u001b[1;32m     10\u001b[0m \u001b[0;34m\u001b[0m\u001b[0m\n\u001b[1;32m     11\u001b[0m         \u001b[0mself\u001b[0m\u001b[0;34m.\u001b[0m\u001b[0mprocessor\u001b[0m \u001b[0;34m=\u001b[0m \u001b[0mAutoProcessor\u001b[0m\u001b[0;34m.\u001b[0m\u001b[0mfrom_pretrained\u001b[0m\u001b[0;34m(\u001b[0m\u001b[0;34m\"google/gemma-3-27b-it\"\u001b[0m\u001b[0;34m)\u001b[0m\u001b[0;34m\u001b[0m\u001b[0;34m\u001b[0m\u001b[0m\n\u001b[0;32m---> 12\u001b[0;31m         self.model = AutoModelForImageTextToText.from_pretrained(\n\u001b[0m\u001b[1;32m     13\u001b[0m             \u001b[0;34m\"google/gemma-3-27b-it\"\u001b[0m\u001b[0;34m,\u001b[0m\u001b[0;34m\u001b[0m\u001b[0;34m\u001b[0m\u001b[0m\n\u001b[1;32m     14\u001b[0m             \u001b[0mquantization_config\u001b[0m\u001b[0;34m=\u001b[0m\u001b[0mbnb_config\u001b[0m\u001b[0;34m,\u001b[0m\u001b[0;34m\u001b[0m\u001b[0;34m\u001b[0m\u001b[0m\n",
      "\u001b[0;32m/usr/local/lib/python3.10/dist-packages/transformers/models/auto/auto_factory.py\u001b[0m in \u001b[0;36mfrom_pretrained\u001b[0;34m(cls, pretrained_model_name_or_path, *model_args, **kwargs)\u001b[0m\n\u001b[1;32m    524\u001b[0m                 \u001b[0m_\u001b[0m \u001b[0;34m=\u001b[0m \u001b[0mkwargs\u001b[0m\u001b[0;34m.\u001b[0m\u001b[0mpop\u001b[0m\u001b[0;34m(\u001b[0m\u001b[0;34m\"quantization_config\"\u001b[0m\u001b[0;34m)\u001b[0m\u001b[0;34m\u001b[0m\u001b[0;34m\u001b[0m\u001b[0m\n\u001b[1;32m    525\u001b[0m \u001b[0;34m\u001b[0m\u001b[0m\n\u001b[0;32m--> 526\u001b[0;31m             config, kwargs = AutoConfig.from_pretrained(\n\u001b[0m\u001b[1;32m    527\u001b[0m                 \u001b[0mpretrained_model_name_or_path\u001b[0m\u001b[0;34m,\u001b[0m\u001b[0;34m\u001b[0m\u001b[0;34m\u001b[0m\u001b[0m\n\u001b[1;32m    528\u001b[0m                 \u001b[0mreturn_unused_kwargs\u001b[0m\u001b[0;34m=\u001b[0m\u001b[0;32mTrue\u001b[0m\u001b[0;34m,\u001b[0m\u001b[0;34m\u001b[0m\u001b[0;34m\u001b[0m\u001b[0m\n",
      "\u001b[0;32m/usr/local/lib/python3.10/dist-packages/transformers/models/auto/configuration_auto.py\u001b[0m in \u001b[0;36mfrom_pretrained\u001b[0;34m(cls, pretrained_model_name_or_path, **kwargs)\u001b[0m\n\u001b[1;32m   1038\u001b[0m                 \u001b[0mconfig_class\u001b[0m \u001b[0;34m=\u001b[0m \u001b[0mCONFIG_MAPPING\u001b[0m\u001b[0;34m[\u001b[0m\u001b[0mconfig_dict\u001b[0m\u001b[0;34m[\u001b[0m\u001b[0;34m\"model_type\"\u001b[0m\u001b[0;34m]\u001b[0m\u001b[0;34m]\u001b[0m\u001b[0;34m\u001b[0m\u001b[0;34m\u001b[0m\u001b[0m\n\u001b[1;32m   1039\u001b[0m             \u001b[0;32mexcept\u001b[0m \u001b[0mKeyError\u001b[0m\u001b[0;34m:\u001b[0m\u001b[0;34m\u001b[0m\u001b[0;34m\u001b[0m\u001b[0m\n\u001b[0;32m-> 1040\u001b[0;31m                 raise ValueError(\n\u001b[0m\u001b[1;32m   1041\u001b[0m                     \u001b[0;34mf\"The checkpoint you are trying to load has model type `{config_dict['model_type']}` \"\u001b[0m\u001b[0;34m\u001b[0m\u001b[0;34m\u001b[0m\u001b[0m\n\u001b[1;32m   1042\u001b[0m                     \u001b[0;34m\"but Transformers does not recognize this architecture. This could be because of an \"\u001b[0m\u001b[0;34m\u001b[0m\u001b[0;34m\u001b[0m\u001b[0m\n",
      "\u001b[0;31mValueError\u001b[0m: The checkpoint you are trying to load has model type `gemma3` but Transformers does not recognize this architecture. This could be because of an issue with the checkpoint, or because your version of Transformers is out of date."
     ]
    }
   ],
   "source": [
    "process_dataframe(\"/kaggle/input/mts-data/analyzer_analyzer_urls.csv\", \"processed_contacts.csv\")"
   ]
  }
 ],
 "metadata": {
  "kaggle": {
   "accelerator": "gpu",
   "dataSources": [
    {
     "datasetId": 6995605,
     "sourceId": 11204071,
     "sourceType": "datasetVersion"
    }
   ],
   "dockerImageVersionId": 30919,
   "isGpuEnabled": true,
   "isInternetEnabled": true,
   "language": "python",
   "sourceType": "notebook"
  },
  "kernelspec": {
   "display_name": "Python 3",
   "language": "python",
   "name": "python3"
  },
  "language_info": {
   "codemirror_mode": {
    "name": "ipython",
    "version": 3
   },
   "file_extension": ".py",
   "mimetype": "text/x-python",
   "name": "python",
   "nbconvert_exporter": "python",
   "pygments_lexer": "ipython3",
   "version": "3.10.12"
  }
 },
 "nbformat": 4,
 "nbformat_minor": 4
}
